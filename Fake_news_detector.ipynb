{
  "nbformat": 4,
  "nbformat_minor": 0,
  "metadata": {
    "colab": {
      "name": "Fake news detector.ipynb",
      "provenance": [],
      "toc_visible": true,
      "collapsed_sections": [],
      "authorship_tag": "ABX9TyN+loiLF8GoOUzaoX6iv3Gk",
      "include_colab_link": true
    },
    "kernelspec": {
      "name": "python3",
      "display_name": "Python 3"
    },
    "language_info": {
      "name": "python"
    }
  },
  "cells": [
    {
      "cell_type": "markdown",
      "metadata": {
        "id": "view-in-github",
        "colab_type": "text"
      },
      "source": [
        "<a href=\"https://colab.research.google.com/github/vkusnezh/Projects-Portfolio/blob/main/Fake_news_detector.ipynb\" target=\"_parent\"><img src=\"https://colab.research.google.com/assets/colab-badge.svg\" alt=\"Open In Colab\"/></a>"
      ]
    },
    {
      "cell_type": "markdown",
      "source": [
        "The goal of this project is to create a sand-box to play with building a models to classify a news as REAL or FAKE."
      ],
      "metadata": {
        "id": "zvc1ervCeTs-"
      }
    },
    {
      "cell_type": "markdown",
      "source": [
        "# Fake news definition"
      ],
      "metadata": {
        "id": "RltG7caffnM_"
      }
    },
    {
      "cell_type": "markdown",
      "source": [
        "Fake news - False information that is broadcast or published as news for fraudulent or politically motivated purposes [2].\n",
        "\n",
        "Examples from Defining “Fake News” article [3].\n",
        "On December 4, 2016, a man carrying an assault rifle walked into a pizza restaurant in Washington, DC. He was intent on “self-investigating” whether the restaurant,\n",
        "Comet Ping Pong, was the headquarters of an underground child sex ring allegedly run\n",
        "by then presidential candidate Hillary Clinton and her former campaign manager, John\n",
        "Podesta (Lopez 2016). He was motivated by stories he had read on right-wing blogs\n",
        "and social media that had developed this line of thought. In the process of his\n",
        "“self-investigation,” he fired several shots into the ceiling of the restaurant. No one was\n",
        "injured, but it was just one of the several threats made to the pizzeria after the news\n",
        "report spread through social media sites, such as Facebook, Reddit, and Twitter (Lopez\n",
        "2016). The viral news report, however, was a hoax. The District of Columbia’s Metropolitan Police Department also officially declared it as a “fictitious conspiracy theory”\n",
        "(Ritchie 2016).\n",
        "Pizzagate, as the conspiracy theory was later called, is just one of the numerous\n",
        "fake news stories that flood social media (Ritchie 2016; Silverman 2016). From Pope\n",
        "Francis endorsing then Republican presidential candidate Donald Trump, to a woman\n",
        "arrested for defecating on her boss’ desk after she won the lottery, fake news stories\n",
        "have engaged—and fooled—millions of readers around the world (Silverman 2016). A\n",
        "2016 survey commissioned by news and entertainment site BuzzFeed found that “fake\n",
        "news headlines fool American adults about 75% of the time” (Silverman and\n",
        "Singer-Vine 2016, para. 1). In many cases, readers ignore the fake news stories they\n",
        "come across, but in some cases the consumption of fake news leads to concrete\n",
        "actions. For example, at the ministerial level, Pakistan’s defense minister tweeted on\n",
        "December 23, 2016 a menacing response to a false report that Israel had threatened Pakistan with nuclear weapons (Goldman 2016). World leaders, such as former US President Barack Obama and Pope Francis, the leader of the Roman Catholic church, have\n",
        "expressed concern over the spread of fake news (Gardiner and Eddy 2016; Pullella\n",
        "2016). Studies have also started to look at the implications of fake news, not only in\n",
        "terms of confusing readers (Barthel, Mitchell, and Holcomb 2016) but even in potentially affecting election results (Allcott and Gentzkow 2017).\n",
        "The term “fake news” is not new. Contemporary discourse, particularly media coverage, seems to define fake news as referring to viral posts based on fictitious accounts\n",
        "made to look like news reports. A recent study defined fake news “to be news articles\n",
        "that are intentionally and verifiably false, and could mislead readers” (Allcott and Gentzkow 2017, 213). Two main motivations underlie the production of fake news: financial\n",
        "and ideological. On one hand, outrageous and fake stories that go viral—precisely\n",
        "because they are outrageous—provide content producers with clicks that are convertible to advertising revenue. On the other hand, other fake news providers produce fake\n",
        "news to promote particular ideas or people that they favor, often by discrediting others\n",
        "(Allcott and Gentzkow 2017). Fake news has now become a buzzword, but current references to it seem to define it differently from earlier definitions. Earlier studies have\n",
        "applied the term to define related but distinct types of content, such as news parodies,\n",
        "political satires, and news propaganda. While it is currently used to describe false stories spreading on social media, fake news has also been invoked to discredit some\n",
        "news organizations’ critical reporting, further muddying discourse around fake news."
      ],
      "metadata": {
        "id": "z5q7jQqWSCnE"
      }
    },
    {
      "cell_type": "markdown",
      "source": [
        "# Project"
      ],
      "metadata": {
        "id": "SFubgisIf0jm"
      }
    },
    {
      "cell_type": "code",
      "source": [
        "import numpy as np\n",
        "import pandas as pd\n",
        "import itertools\n",
        "from sklearn.model_selection import train_test_split\n",
        "from sklearn.feature_extraction.text import TfidfVectorizer\n",
        "from sklearn.linear_model import PassiveAggressiveClassifier\n",
        "from sklearn.metrics import accuracy_score, confusion_matrix"
      ],
      "metadata": {
        "id": "xY-5TftvgIqx"
      },
      "execution_count": null,
      "outputs": []
    },
    {
      "cell_type": "markdown",
      "source": [
        "# New Section"
      ],
      "metadata": {
        "id": "ef-M1PVdTHQu"
      }
    },
    {
      "cell_type": "code",
      "source": [
        "#Read the data from google drive\n",
        "url='https://drive.google.com/file/d/1g1DS0TbDYWKVORIbC3XJJ6Do73KrkQ9b/view?usp=sharing'\n",
        "url_c='https://drive.google.com/uc?export=download&id='+url.split('/')[-2]\n",
        "df=pd.read_csv(url_c)\n",
        "\n",
        "#Get head\n",
        "\n",
        "#df.shape\n",
        "df.head()"
      ],
      "metadata": {
        "colab": {
          "base_uri": "https://localhost:8080/",
          "height": 206
        },
        "id": "KjyXLwdh_4lB",
        "outputId": "63398ae7-462a-4927-b514-d1087d9b623f"
      },
      "execution_count": null,
      "outputs": [
        {
          "output_type": "execute_result",
          "data": {
            "text/html": [
              "\n",
              "  <div id=\"df-aa48494f-9181-4efb-b8f1-c429307e5ecb\">\n",
              "    <div class=\"colab-df-container\">\n",
              "      <div>\n",
              "<style scoped>\n",
              "    .dataframe tbody tr th:only-of-type {\n",
              "        vertical-align: middle;\n",
              "    }\n",
              "\n",
              "    .dataframe tbody tr th {\n",
              "        vertical-align: top;\n",
              "    }\n",
              "\n",
              "    .dataframe thead th {\n",
              "        text-align: right;\n",
              "    }\n",
              "</style>\n",
              "<table border=\"1\" class=\"dataframe\">\n",
              "  <thead>\n",
              "    <tr style=\"text-align: right;\">\n",
              "      <th></th>\n",
              "      <th>Unnamed: 0</th>\n",
              "      <th>title</th>\n",
              "      <th>text</th>\n",
              "      <th>label</th>\n",
              "    </tr>\n",
              "  </thead>\n",
              "  <tbody>\n",
              "    <tr>\n",
              "      <th>0</th>\n",
              "      <td>8476</td>\n",
              "      <td>You Can Smell Hillary’s Fear</td>\n",
              "      <td>Daniel Greenfield, a Shillman Journalism Fello...</td>\n",
              "      <td>FAKE</td>\n",
              "    </tr>\n",
              "    <tr>\n",
              "      <th>1</th>\n",
              "      <td>10294</td>\n",
              "      <td>Watch The Exact Moment Paul Ryan Committed Pol...</td>\n",
              "      <td>Google Pinterest Digg Linkedin Reddit Stumbleu...</td>\n",
              "      <td>FAKE</td>\n",
              "    </tr>\n",
              "    <tr>\n",
              "      <th>2</th>\n",
              "      <td>3608</td>\n",
              "      <td>Kerry to go to Paris in gesture of sympathy</td>\n",
              "      <td>U.S. Secretary of State John F. Kerry said Mon...</td>\n",
              "      <td>REAL</td>\n",
              "    </tr>\n",
              "    <tr>\n",
              "      <th>3</th>\n",
              "      <td>10142</td>\n",
              "      <td>Bernie supporters on Twitter erupt in anger ag...</td>\n",
              "      <td>— Kaydee King (@KaydeeKing) November 9, 2016 T...</td>\n",
              "      <td>FAKE</td>\n",
              "    </tr>\n",
              "    <tr>\n",
              "      <th>4</th>\n",
              "      <td>875</td>\n",
              "      <td>The Battle of New York: Why This Primary Matters</td>\n",
              "      <td>It's primary day in New York and front-runners...</td>\n",
              "      <td>REAL</td>\n",
              "    </tr>\n",
              "  </tbody>\n",
              "</table>\n",
              "</div>\n",
              "      <button class=\"colab-df-convert\" onclick=\"convertToInteractive('df-aa48494f-9181-4efb-b8f1-c429307e5ecb')\"\n",
              "              title=\"Convert this dataframe to an interactive table.\"\n",
              "              style=\"display:none;\">\n",
              "        \n",
              "  <svg xmlns=\"http://www.w3.org/2000/svg\" height=\"24px\"viewBox=\"0 0 24 24\"\n",
              "       width=\"24px\">\n",
              "    <path d=\"M0 0h24v24H0V0z\" fill=\"none\"/>\n",
              "    <path d=\"M18.56 5.44l.94 2.06.94-2.06 2.06-.94-2.06-.94-.94-2.06-.94 2.06-2.06.94zm-11 1L8.5 8.5l.94-2.06 2.06-.94-2.06-.94L8.5 2.5l-.94 2.06-2.06.94zm10 10l.94 2.06.94-2.06 2.06-.94-2.06-.94-.94-2.06-.94 2.06-2.06.94z\"/><path d=\"M17.41 7.96l-1.37-1.37c-.4-.4-.92-.59-1.43-.59-.52 0-1.04.2-1.43.59L10.3 9.45l-7.72 7.72c-.78.78-.78 2.05 0 2.83L4 21.41c.39.39.9.59 1.41.59.51 0 1.02-.2 1.41-.59l7.78-7.78 2.81-2.81c.8-.78.8-2.07 0-2.86zM5.41 20L4 18.59l7.72-7.72 1.47 1.35L5.41 20z\"/>\n",
              "  </svg>\n",
              "      </button>\n",
              "      \n",
              "  <style>\n",
              "    .colab-df-container {\n",
              "      display:flex;\n",
              "      flex-wrap:wrap;\n",
              "      gap: 12px;\n",
              "    }\n",
              "\n",
              "    .colab-df-convert {\n",
              "      background-color: #E8F0FE;\n",
              "      border: none;\n",
              "      border-radius: 50%;\n",
              "      cursor: pointer;\n",
              "      display: none;\n",
              "      fill: #1967D2;\n",
              "      height: 32px;\n",
              "      padding: 0 0 0 0;\n",
              "      width: 32px;\n",
              "    }\n",
              "\n",
              "    .colab-df-convert:hover {\n",
              "      background-color: #E2EBFA;\n",
              "      box-shadow: 0px 1px 2px rgba(60, 64, 67, 0.3), 0px 1px 3px 1px rgba(60, 64, 67, 0.15);\n",
              "      fill: #174EA6;\n",
              "    }\n",
              "\n",
              "    [theme=dark] .colab-df-convert {\n",
              "      background-color: #3B4455;\n",
              "      fill: #D2E3FC;\n",
              "    }\n",
              "\n",
              "    [theme=dark] .colab-df-convert:hover {\n",
              "      background-color: #434B5C;\n",
              "      box-shadow: 0px 1px 3px 1px rgba(0, 0, 0, 0.15);\n",
              "      filter: drop-shadow(0px 1px 2px rgba(0, 0, 0, 0.3));\n",
              "      fill: #FFFFFF;\n",
              "    }\n",
              "  </style>\n",
              "\n",
              "      <script>\n",
              "        const buttonEl =\n",
              "          document.querySelector('#df-aa48494f-9181-4efb-b8f1-c429307e5ecb button.colab-df-convert');\n",
              "        buttonEl.style.display =\n",
              "          google.colab.kernel.accessAllowed ? 'block' : 'none';\n",
              "\n",
              "        async function convertToInteractive(key) {\n",
              "          const element = document.querySelector('#df-aa48494f-9181-4efb-b8f1-c429307e5ecb');\n",
              "          const dataTable =\n",
              "            await google.colab.kernel.invokeFunction('convertToInteractive',\n",
              "                                                     [key], {});\n",
              "          if (!dataTable) return;\n",
              "\n",
              "          const docLinkHtml = 'Like what you see? Visit the ' +\n",
              "            '<a target=\"_blank\" href=https://colab.research.google.com/notebooks/data_table.ipynb>data table notebook</a>'\n",
              "            + ' to learn more about interactive tables.';\n",
              "          element.innerHTML = '';\n",
              "          dataTable['output_type'] = 'display_data';\n",
              "          await google.colab.output.renderOutput(dataTable, element);\n",
              "          const docLink = document.createElement('div');\n",
              "          docLink.innerHTML = docLinkHtml;\n",
              "          element.appendChild(docLink);\n",
              "        }\n",
              "      </script>\n",
              "    </div>\n",
              "  </div>\n",
              "  "
            ],
            "text/plain": [
              "   Unnamed: 0  ... label\n",
              "0        8476  ...  FAKE\n",
              "1       10294  ...  FAKE\n",
              "2        3608  ...  REAL\n",
              "3       10142  ...  FAKE\n",
              "4         875  ...  REAL\n",
              "\n",
              "[5 rows x 4 columns]"
            ]
          },
          "metadata": {},
          "execution_count": 4
        }
      ]
    },
    {
      "cell_type": "code",
      "source": [
        "#DataFlair - get the labels from the DataFrame\n",
        "labels=df.label\n",
        "labels.head()"
      ],
      "metadata": {
        "colab": {
          "base_uri": "https://localhost:8080/"
        },
        "id": "fCwRCDCwXEeE",
        "outputId": "508240c2-ee44-4605-bb3b-07a23b11016b"
      },
      "execution_count": null,
      "outputs": [
        {
          "output_type": "execute_result",
          "data": {
            "text/plain": [
              "0    FAKE\n",
              "1    FAKE\n",
              "2    REAL\n",
              "3    FAKE\n",
              "4    REAL\n",
              "Name: label, dtype: object"
            ]
          },
          "metadata": {},
          "execution_count": 5
        }
      ]
    },
    {
      "cell_type": "code",
      "source": [
        "#Split the dataset into training and testing sets\n",
        "x_train,x_test,y_train,y_test=train_test_split(df['text'], labels, test_size=0.3, random_state=10)"
      ],
      "metadata": {
        "id": "lgsBqWznXQa5"
      },
      "execution_count": null,
      "outputs": []
    },
    {
      "cell_type": "markdown",
      "source": [
        "Initialization of a TfidfVectorizer with stop words from the English language and a maximum document frequency of 0.7 (terms with a higher document frequency will be discarded). \n",
        "TfidfVectorizer turns a collection of raw documents into a matrix of TF-IDF features.\n",
        "\n",
        "Fiting and transformation of the vectorizer on the train set, and transformation of the vectorizer on the test set."
      ],
      "metadata": {
        "id": "naY2syb-Xip9"
      }
    },
    {
      "cell_type": "code",
      "source": [
        "#DataFlair - Initialize a TfidfVectorizer\n",
        "tfidf_vectorizer=TfidfVectorizer(stop_words='english', max_df=0.7)\n",
        "\n",
        "#DataFlair - Fit and transform train set, transform test set\n",
        "tfidf_train=tfidf_vectorizer.fit_transform(x_train) \n",
        "tfidf_test=tfidf_vectorizer.transform(x_test)"
      ],
      "metadata": {
        "id": "BiCkfQGcX7TJ"
      },
      "execution_count": null,
      "outputs": []
    },
    {
      "cell_type": "markdown",
      "source": [
        "Initialization of a PassiveAggressiveClassifier, and fit it on tfidf_train and y_train.\n",
        "\n",
        "Then, we’ll predict on the test set from the TfidfVectorizer and calculate the accuracy with accuracy_score() from sklearn.metrics."
      ],
      "metadata": {
        "id": "biVyeG2qYNYS"
      }
    },
    {
      "cell_type": "code",
      "source": [
        "#DataFlair - Initialize a PassiveAggressiveClassifier\n",
        "pac=PassiveAggressiveClassifier(max_iter=30)\n",
        "pac.fit(tfidf_train,y_train)\n",
        "#DataFlair - Predict on the test set and calculate accuracy\n",
        "y_pred=pac.predict(tfidf_test)\n",
        "score=accuracy_score(y_test,y_pred)\n",
        "print(f'Accuracy: {round(score*100,3)}%')"
      ],
      "metadata": {
        "colab": {
          "base_uri": "https://localhost:8080/"
        },
        "id": "hxU8YYB1ddEL",
        "outputId": "a0ff8dfc-90e0-4840-9586-48538fb0e9ee"
      },
      "execution_count": null,
      "outputs": [
        {
          "output_type": "stream",
          "name": "stdout",
          "text": [
            "Accuracy: 94.214%\n"
          ]
        }
      ]
    },
    {
      "cell_type": "markdown",
      "source": [
        "Accuracy is 94.2% with this model. Finally, let’s print out a confusion matrix to gain insight into the number of false and true negatives and positives."
      ],
      "metadata": {
        "id": "ErBw7j3ZdpCR"
      }
    },
    {
      "cell_type": "code",
      "source": [
        "#DataFlair - Build confusion matrix\n",
        "confusion_matrix(y_test,y_pred, labels=['FAKE','REAL'])"
      ],
      "metadata": {
        "colab": {
          "base_uri": "https://localhost:8080/"
        },
        "id": "LS8mU_H2dzDI",
        "outputId": "9dc23547-7d20-4543-a98a-a12f5cba2c1b"
      },
      "execution_count": null,
      "outputs": [
        {
          "output_type": "execute_result",
          "data": {
            "text/plain": [
              "array([[874,  46],\n",
              "       [ 64, 917]])"
            ]
          },
          "metadata": {},
          "execution_count": 15
        }
      ]
    },
    {
      "cell_type": "markdown",
      "source": [
        "So with this model, we have 874 true positives, 917 true negatives, 46 false positives, and 64 false negatives."
      ],
      "metadata": {
        "id": "UXY5hLVQd-AQ"
      }
    },
    {
      "cell_type": "markdown",
      "source": [
        "# Conclusions"
      ],
      "metadata": {
        "id": "VsYxldCggHk9"
      }
    },
    {
      "cell_type": "markdown",
      "source": [
        "# References"
      ],
      "metadata": {
        "id": "MlHpE-PQBW-T"
      }
    },
    {
      "cell_type": "markdown",
      "source": [
        "\n",
        "\n",
        "1.   https://data-flair.training/blogs/advanced-python-project-detecting-fake-news/\n",
        "2.   https://www.lexico.com/definition/fake_news\n",
        "3.   Digital Journalism, 2018 Vol. 6, No. 2, 137–153, https://doi.org/10.1080/21670811.2017.1360143\n",
        "4.  \n",
        "  \n",
        "\n",
        "\n"
      ],
      "metadata": {
        "id": "EjVv8dkGk2Fy"
      }
    }
  ]
}