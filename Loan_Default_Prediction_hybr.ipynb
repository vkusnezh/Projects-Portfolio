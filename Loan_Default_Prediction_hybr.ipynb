{
 "cells": [
  {
   "cell_type": "code",
   "execution_count": 1,
   "id": "a9084ba9",
   "metadata": {},
   "outputs": [],
   "source": [
    "import pandas as pd\n",
    "import numpy as np\n",
    "import seaborn as sns\n",
    "import matplotlib\n",
    "import matplotlib.pyplot as plt\n",
    "from matplotlib.pylab import rcParams\n",
    "rcParams['figure.figsize'] = 12, 7\n",
    "%matplotlib inline\n",
    "import gc\n",
    "\n",
    "from sklearn.model_selection import TimeSeriesSplit\n",
    "from sklearn.metrics import accuracy_score\n",
    "from sklearn.model_selection import train_test_split\n",
    "from sklearn.metrics import roc_auc_score\n",
    "from sklearn.metrics import f1_score\n",
    "\n",
    "import warnings\n",
    "warnings.filterwarnings(\"ignore\")\n",
    "from operator import itemgetter"
   ]
  },
  {
   "cell_type": "markdown",
   "id": "16883d31",
   "metadata": {},
   "source": [
    "# Load bases"
   ]
  },
  {
   "cell_type": "code",
   "execution_count": 2,
   "id": "c0c22f76",
   "metadata": {},
   "outputs": [
    {
     "name": "stdout",
     "output_type": "stream",
     "text": [
      "(7500, 18)\n",
      "(2500, 17)\n"
     ]
    },
    {
     "data": {
      "text/plain": [
       "[None, None]"
      ]
     },
     "execution_count": 2,
     "metadata": {},
     "output_type": "execute_result"
    }
   ],
   "source": [
    "train_df = pd.read_csv('C:/Users/38063/Desktop/Loan_prediction/train.csv')\n",
    "test_df = pd.read_csv('C:/Users/38063/Desktop/Loan_prediction/test.csv')\n",
    "[print(df.shape) for df in [train_df,test_df]]"
   ]
  },
  {
   "cell_type": "code",
   "execution_count": 3,
   "id": "3b7a8e51",
   "metadata": {},
   "outputs": [
    {
     "data": {
      "text/html": [
       "<div>\n",
       "<style scoped>\n",
       "    .dataframe tbody tr th:only-of-type {\n",
       "        vertical-align: middle;\n",
       "    }\n",
       "\n",
       "    .dataframe tbody tr th {\n",
       "        vertical-align: top;\n",
       "    }\n",
       "\n",
       "    .dataframe thead th {\n",
       "        text-align: right;\n",
       "    }\n",
       "</style>\n",
       "<table border=\"1\" class=\"dataframe\">\n",
       "  <thead>\n",
       "    <tr style=\"text-align: right;\">\n",
       "      <th></th>\n",
       "      <th>Id</th>\n",
       "      <th>Home Ownership</th>\n",
       "      <th>Annual Income</th>\n",
       "      <th>Years in current job</th>\n",
       "      <th>Tax Liens</th>\n",
       "      <th>Number of Open Accounts</th>\n",
       "      <th>Years of Credit History</th>\n",
       "      <th>Maximum Open Credit</th>\n",
       "      <th>Number of Credit Problems</th>\n",
       "      <th>Months since last delinquent</th>\n",
       "      <th>Bankruptcies</th>\n",
       "      <th>Purpose</th>\n",
       "      <th>Term</th>\n",
       "      <th>Current Loan Amount</th>\n",
       "      <th>Current Credit Balance</th>\n",
       "      <th>Monthly Debt</th>\n",
       "      <th>Credit Score</th>\n",
       "      <th>Credit Default</th>\n",
       "    </tr>\n",
       "  </thead>\n",
       "  <tbody>\n",
       "    <tr>\n",
       "      <th>0</th>\n",
       "      <td>0</td>\n",
       "      <td>Own Home</td>\n",
       "      <td>482087.0</td>\n",
       "      <td>NaN</td>\n",
       "      <td>0.0</td>\n",
       "      <td>11.0</td>\n",
       "      <td>26.3</td>\n",
       "      <td>685960.0</td>\n",
       "      <td>1.0</td>\n",
       "      <td>NaN</td>\n",
       "      <td>1.0</td>\n",
       "      <td>debt consolidation</td>\n",
       "      <td>Short Term</td>\n",
       "      <td>99999999.0</td>\n",
       "      <td>47386.0</td>\n",
       "      <td>7914.0</td>\n",
       "      <td>749.0</td>\n",
       "      <td>0</td>\n",
       "    </tr>\n",
       "    <tr>\n",
       "      <th>1</th>\n",
       "      <td>1</td>\n",
       "      <td>Own Home</td>\n",
       "      <td>1025487.0</td>\n",
       "      <td>10+ years</td>\n",
       "      <td>0.0</td>\n",
       "      <td>15.0</td>\n",
       "      <td>15.3</td>\n",
       "      <td>1181730.0</td>\n",
       "      <td>0.0</td>\n",
       "      <td>NaN</td>\n",
       "      <td>0.0</td>\n",
       "      <td>debt consolidation</td>\n",
       "      <td>Long Term</td>\n",
       "      <td>264968.0</td>\n",
       "      <td>394972.0</td>\n",
       "      <td>18373.0</td>\n",
       "      <td>737.0</td>\n",
       "      <td>1</td>\n",
       "    </tr>\n",
       "    <tr>\n",
       "      <th>2</th>\n",
       "      <td>2</td>\n",
       "      <td>Home Mortgage</td>\n",
       "      <td>751412.0</td>\n",
       "      <td>8 years</td>\n",
       "      <td>0.0</td>\n",
       "      <td>11.0</td>\n",
       "      <td>35.0</td>\n",
       "      <td>1182434.0</td>\n",
       "      <td>0.0</td>\n",
       "      <td>NaN</td>\n",
       "      <td>0.0</td>\n",
       "      <td>debt consolidation</td>\n",
       "      <td>Short Term</td>\n",
       "      <td>99999999.0</td>\n",
       "      <td>308389.0</td>\n",
       "      <td>13651.0</td>\n",
       "      <td>742.0</td>\n",
       "      <td>0</td>\n",
       "    </tr>\n",
       "    <tr>\n",
       "      <th>3</th>\n",
       "      <td>3</td>\n",
       "      <td>Own Home</td>\n",
       "      <td>805068.0</td>\n",
       "      <td>6 years</td>\n",
       "      <td>0.0</td>\n",
       "      <td>8.0</td>\n",
       "      <td>22.5</td>\n",
       "      <td>147400.0</td>\n",
       "      <td>1.0</td>\n",
       "      <td>NaN</td>\n",
       "      <td>1.0</td>\n",
       "      <td>debt consolidation</td>\n",
       "      <td>Short Term</td>\n",
       "      <td>121396.0</td>\n",
       "      <td>95855.0</td>\n",
       "      <td>11338.0</td>\n",
       "      <td>694.0</td>\n",
       "      <td>0</td>\n",
       "    </tr>\n",
       "    <tr>\n",
       "      <th>4</th>\n",
       "      <td>4</td>\n",
       "      <td>Rent</td>\n",
       "      <td>776264.0</td>\n",
       "      <td>8 years</td>\n",
       "      <td>0.0</td>\n",
       "      <td>13.0</td>\n",
       "      <td>13.6</td>\n",
       "      <td>385836.0</td>\n",
       "      <td>1.0</td>\n",
       "      <td>NaN</td>\n",
       "      <td>0.0</td>\n",
       "      <td>debt consolidation</td>\n",
       "      <td>Short Term</td>\n",
       "      <td>125840.0</td>\n",
       "      <td>93309.0</td>\n",
       "      <td>7180.0</td>\n",
       "      <td>719.0</td>\n",
       "      <td>0</td>\n",
       "    </tr>\n",
       "  </tbody>\n",
       "</table>\n",
       "</div>"
      ],
      "text/plain": [
       "   Id Home Ownership  Annual Income Years in current job  Tax Liens  \\\n",
       "0   0       Own Home       482087.0                  NaN        0.0   \n",
       "1   1       Own Home      1025487.0            10+ years        0.0   \n",
       "2   2  Home Mortgage       751412.0              8 years        0.0   \n",
       "3   3       Own Home       805068.0              6 years        0.0   \n",
       "4   4           Rent       776264.0              8 years        0.0   \n",
       "\n",
       "   Number of Open Accounts  Years of Credit History  Maximum Open Credit  \\\n",
       "0                     11.0                     26.3             685960.0   \n",
       "1                     15.0                     15.3            1181730.0   \n",
       "2                     11.0                     35.0            1182434.0   \n",
       "3                      8.0                     22.5             147400.0   \n",
       "4                     13.0                     13.6             385836.0   \n",
       "\n",
       "   Number of Credit Problems  Months since last delinquent  Bankruptcies  \\\n",
       "0                        1.0                           NaN           1.0   \n",
       "1                        0.0                           NaN           0.0   \n",
       "2                        0.0                           NaN           0.0   \n",
       "3                        1.0                           NaN           1.0   \n",
       "4                        1.0                           NaN           0.0   \n",
       "\n",
       "              Purpose        Term  Current Loan Amount  \\\n",
       "0  debt consolidation  Short Term           99999999.0   \n",
       "1  debt consolidation   Long Term             264968.0   \n",
       "2  debt consolidation  Short Term           99999999.0   \n",
       "3  debt consolidation  Short Term             121396.0   \n",
       "4  debt consolidation  Short Term             125840.0   \n",
       "\n",
       "   Current Credit Balance  Monthly Debt  Credit Score  Credit Default  \n",
       "0                 47386.0        7914.0         749.0               0  \n",
       "1                394972.0       18373.0         737.0               1  \n",
       "2                308389.0       13651.0         742.0               0  \n",
       "3                 95855.0       11338.0         694.0               0  \n",
       "4                 93309.0        7180.0         719.0               0  "
      ]
     },
     "execution_count": 3,
     "metadata": {},
     "output_type": "execute_result"
    }
   ],
   "source": [
    "train_df.head()"
   ]
  },
  {
   "cell_type": "code",
   "execution_count": 4,
   "id": "198f479d",
   "metadata": {},
   "outputs": [
    {
     "data": {
      "text/html": [
       "<div>\n",
       "<style scoped>\n",
       "    .dataframe tbody tr th:only-of-type {\n",
       "        vertical-align: middle;\n",
       "    }\n",
       "\n",
       "    .dataframe tbody tr th {\n",
       "        vertical-align: top;\n",
       "    }\n",
       "\n",
       "    .dataframe thead th {\n",
       "        text-align: right;\n",
       "    }\n",
       "</style>\n",
       "<table border=\"1\" class=\"dataframe\">\n",
       "  <thead>\n",
       "    <tr style=\"text-align: right;\">\n",
       "      <th></th>\n",
       "      <th>Id</th>\n",
       "      <th>Home Ownership</th>\n",
       "      <th>Annual Income</th>\n",
       "      <th>Years in current job</th>\n",
       "      <th>Tax Liens</th>\n",
       "      <th>Number of Open Accounts</th>\n",
       "      <th>Years of Credit History</th>\n",
       "      <th>Maximum Open Credit</th>\n",
       "      <th>Number of Credit Problems</th>\n",
       "      <th>Months since last delinquent</th>\n",
       "      <th>Bankruptcies</th>\n",
       "      <th>Purpose</th>\n",
       "      <th>Term</th>\n",
       "      <th>Current Loan Amount</th>\n",
       "      <th>Current Credit Balance</th>\n",
       "      <th>Monthly Debt</th>\n",
       "      <th>Credit Score</th>\n",
       "    </tr>\n",
       "  </thead>\n",
       "  <tbody>\n",
       "    <tr>\n",
       "      <th>0</th>\n",
       "      <td>7500</td>\n",
       "      <td>Rent</td>\n",
       "      <td>NaN</td>\n",
       "      <td>4 years</td>\n",
       "      <td>0.0</td>\n",
       "      <td>9.0</td>\n",
       "      <td>12.5</td>\n",
       "      <td>220968.0</td>\n",
       "      <td>0.0</td>\n",
       "      <td>70.0</td>\n",
       "      <td>0.0</td>\n",
       "      <td>debt consolidation</td>\n",
       "      <td>Short Term</td>\n",
       "      <td>162470.0</td>\n",
       "      <td>105906.0</td>\n",
       "      <td>6813.0</td>\n",
       "      <td>NaN</td>\n",
       "    </tr>\n",
       "    <tr>\n",
       "      <th>1</th>\n",
       "      <td>7501</td>\n",
       "      <td>Rent</td>\n",
       "      <td>231838.0</td>\n",
       "      <td>1 year</td>\n",
       "      <td>0.0</td>\n",
       "      <td>6.0</td>\n",
       "      <td>32.7</td>\n",
       "      <td>55946.0</td>\n",
       "      <td>0.0</td>\n",
       "      <td>8.0</td>\n",
       "      <td>0.0</td>\n",
       "      <td>educational expenses</td>\n",
       "      <td>Short Term</td>\n",
       "      <td>78298.0</td>\n",
       "      <td>46037.0</td>\n",
       "      <td>2318.0</td>\n",
       "      <td>699.0</td>\n",
       "    </tr>\n",
       "    <tr>\n",
       "      <th>2</th>\n",
       "      <td>7502</td>\n",
       "      <td>Home Mortgage</td>\n",
       "      <td>1152540.0</td>\n",
       "      <td>3 years</td>\n",
       "      <td>0.0</td>\n",
       "      <td>10.0</td>\n",
       "      <td>13.7</td>\n",
       "      <td>204600.0</td>\n",
       "      <td>0.0</td>\n",
       "      <td>NaN</td>\n",
       "      <td>0.0</td>\n",
       "      <td>debt consolidation</td>\n",
       "      <td>Short Term</td>\n",
       "      <td>200178.0</td>\n",
       "      <td>146490.0</td>\n",
       "      <td>18729.0</td>\n",
       "      <td>7260.0</td>\n",
       "    </tr>\n",
       "    <tr>\n",
       "      <th>3</th>\n",
       "      <td>7503</td>\n",
       "      <td>Home Mortgage</td>\n",
       "      <td>1220313.0</td>\n",
       "      <td>10+ years</td>\n",
       "      <td>0.0</td>\n",
       "      <td>16.0</td>\n",
       "      <td>17.0</td>\n",
       "      <td>456302.0</td>\n",
       "      <td>0.0</td>\n",
       "      <td>70.0</td>\n",
       "      <td>0.0</td>\n",
       "      <td>debt consolidation</td>\n",
       "      <td>Short Term</td>\n",
       "      <td>217382.0</td>\n",
       "      <td>213199.0</td>\n",
       "      <td>27559.0</td>\n",
       "      <td>739.0</td>\n",
       "    </tr>\n",
       "    <tr>\n",
       "      <th>4</th>\n",
       "      <td>7504</td>\n",
       "      <td>Home Mortgage</td>\n",
       "      <td>2340952.0</td>\n",
       "      <td>6 years</td>\n",
       "      <td>0.0</td>\n",
       "      <td>11.0</td>\n",
       "      <td>23.6</td>\n",
       "      <td>1207272.0</td>\n",
       "      <td>0.0</td>\n",
       "      <td>NaN</td>\n",
       "      <td>0.0</td>\n",
       "      <td>debt consolidation</td>\n",
       "      <td>Long Term</td>\n",
       "      <td>777634.0</td>\n",
       "      <td>425391.0</td>\n",
       "      <td>42605.0</td>\n",
       "      <td>706.0</td>\n",
       "    </tr>\n",
       "  </tbody>\n",
       "</table>\n",
       "</div>"
      ],
      "text/plain": [
       "     Id Home Ownership  Annual Income Years in current job  Tax Liens  \\\n",
       "0  7500           Rent            NaN              4 years        0.0   \n",
       "1  7501           Rent       231838.0               1 year        0.0   \n",
       "2  7502  Home Mortgage      1152540.0              3 years        0.0   \n",
       "3  7503  Home Mortgage      1220313.0            10+ years        0.0   \n",
       "4  7504  Home Mortgage      2340952.0              6 years        0.0   \n",
       "\n",
       "   Number of Open Accounts  Years of Credit History  Maximum Open Credit  \\\n",
       "0                      9.0                     12.5             220968.0   \n",
       "1                      6.0                     32.7              55946.0   \n",
       "2                     10.0                     13.7             204600.0   \n",
       "3                     16.0                     17.0             456302.0   \n",
       "4                     11.0                     23.6            1207272.0   \n",
       "\n",
       "   Number of Credit Problems  Months since last delinquent  Bankruptcies  \\\n",
       "0                        0.0                          70.0           0.0   \n",
       "1                        0.0                           8.0           0.0   \n",
       "2                        0.0                           NaN           0.0   \n",
       "3                        0.0                          70.0           0.0   \n",
       "4                        0.0                           NaN           0.0   \n",
       "\n",
       "                Purpose        Term  Current Loan Amount  \\\n",
       "0    debt consolidation  Short Term             162470.0   \n",
       "1  educational expenses  Short Term              78298.0   \n",
       "2    debt consolidation  Short Term             200178.0   \n",
       "3    debt consolidation  Short Term             217382.0   \n",
       "4    debt consolidation   Long Term             777634.0   \n",
       "\n",
       "   Current Credit Balance  Monthly Debt  Credit Score  \n",
       "0                105906.0        6813.0           NaN  \n",
       "1                 46037.0        2318.0         699.0  \n",
       "2                146490.0       18729.0        7260.0  \n",
       "3                213199.0       27559.0         739.0  \n",
       "4                425391.0       42605.0         706.0  "
      ]
     },
     "execution_count": 4,
     "metadata": {},
     "output_type": "execute_result"
    }
   ],
   "source": [
    "test_df.head()"
   ]
  },
  {
   "cell_type": "code",
   "execution_count": 5,
   "id": "289f020f",
   "metadata": {},
   "outputs": [
    {
     "data": {
      "text/plain": [
       "Id                                 0\n",
       "Home Ownership                     0\n",
       "Annual Income                   1557\n",
       "Years in current job             371\n",
       "Tax Liens                          0\n",
       "Number of Open Accounts            0\n",
       "Years of Credit History            0\n",
       "Maximum Open Credit                0\n",
       "Number of Credit Problems          0\n",
       "Months since last delinquent    4081\n",
       "Bankruptcies                      14\n",
       "Purpose                            0\n",
       "Term                               0\n",
       "Current Loan Amount                0\n",
       "Current Credit Balance             0\n",
       "Monthly Debt                       0\n",
       "Credit Score                    1557\n",
       "Credit Default                     0\n",
       "dtype: int64"
      ]
     },
     "execution_count": 5,
     "metadata": {},
     "output_type": "execute_result"
    }
   ],
   "source": [
    "train_df.isnull().sum()"
   ]
  },
  {
   "cell_type": "code",
   "execution_count": 6,
   "id": "2b05135f",
   "metadata": {},
   "outputs": [
    {
     "data": {
      "text/plain": [
       "Id                                 0\n",
       "Home Ownership                     0\n",
       "Annual Income                    513\n",
       "Years in current job              86\n",
       "Tax Liens                          0\n",
       "Number of Open Accounts            0\n",
       "Years of Credit History            0\n",
       "Maximum Open Credit                0\n",
       "Number of Credit Problems          0\n",
       "Months since last delinquent    1358\n",
       "Bankruptcies                       3\n",
       "Purpose                            0\n",
       "Term                               0\n",
       "Current Loan Amount                0\n",
       "Current Credit Balance             0\n",
       "Monthly Debt                       0\n",
       "Credit Score                     513\n",
       "dtype: int64"
      ]
     },
     "execution_count": 6,
     "metadata": {},
     "output_type": "execute_result"
    }
   ],
   "source": [
    "test_df.isnull().sum()"
   ]
  },
  {
   "cell_type": "code",
   "execution_count": 7,
   "id": "ebaf5d1d",
   "metadata": {},
   "outputs": [],
   "source": [
    "# 'Annual Income',\n",
    "# 'Credit Score', - первый и второй - по одни и тем же клиентам пустые значения. Возможно первый входит как предиктор во второй"
   ]
  },
  {
   "cell_type": "code",
   "execution_count": 8,
   "id": "a7c5d0a6",
   "metadata": {},
   "outputs": [
    {
     "data": {
      "text/plain": [
       "<matplotlib.legend.Legend at 0x188ff9e2d48>"
      ]
     },
     "execution_count": 8,
     "metadata": {},
     "output_type": "execute_result"
    },
    {
     "data": {
      "image/png": "[encoded data removed]",
      "text/plain": [
       "<Figure size 432x288 with 1 Axes>"
      ]
     },
     "metadata": {
      "needs_background": "light"
     },
     "output_type": "display_data"
    }
   ],
   "source": [
    "fig = plt.figure()\n",
    "ax = fig.add_subplot(111)\n",
    "\n",
    "for df in [train_df, test_df]:\n",
    "    df['Credit Score'].plot(kind='kde')\n",
    "lines, labels = ax.get_legend_handles_labels()\n",
    "ax.legend(lines, labels, loc='best')"
   ]
  },
  {
   "cell_type": "markdown",
   "id": "31bd7c3e",
   "metadata": {},
   "source": [
    "# Preprocesing"
   ]
  },
  {
   "cell_type": "markdown",
   "id": "a330ca1b",
   "metadata": {},
   "source": [
    "## fill NAN"
   ]
  },
  {
   "cell_type": "code",
   "execution_count": 9,
   "id": "9ef7b839",
   "metadata": {},
   "outputs": [
    {
     "name": "stdout",
     "output_type": "stream",
     "text": [
      "Annual Income_flNull 0\n",
      "Months since last delinquent_flNull 0\n",
      "Bankruptcies_flNull 0\n",
      "Annual Income_flNull 0\n",
      "Months since last delinquent_flNull 0\n",
      "Bankruptcies_flNull 0\n"
     ]
    }
   ],
   "source": [
    "for df in [train_df, test_df]:\n",
    "    for f in ['Annual Income', \n",
    "              'Months since last delinquent',\n",
    "              'Bankruptcies',\n",
    "              ]:\n",
    "        nf_ = f + '_flNull'\n",
    "        df[nf_] = np.where(df[f].isnull(), 1, 0)\n",
    "        print(nf_, df[nf_].isnull().sum())"
   ]
  },
  {
   "cell_type": "code",
   "execution_count": 10,
   "id": "374f5d8d",
   "metadata": {},
   "outputs": [],
   "source": [
    "# Annual Income\n",
    "for df in [train_df,test_df]:\n",
    "    for f in ['Annual Income']:\n",
    "        mean_ = df['Annual Income'].mean()\n",
    "        df[f]= df[f].fillna(mean_)"
   ]
  },
  {
   "cell_type": "code",
   "execution_count": 11,
   "id": "218a9561",
   "metadata": {},
   "outputs": [],
   "source": [
    "for df in [train_df,test_df]:\n",
    "    for f in ['Years in current job']:\n",
    "        nf_ = f#+'_NAN_0'\n",
    "        df[nf_] = df[f].fillna('0 years')\n",
    "#         print(df[nf_].isnull().sum())\n",
    "\n",
    "for df in [train_df,test_df]:\n",
    "    for f in ['Months since last delinquent']:\n",
    "        nf_ = f#+'_NAN_0'\n",
    "        df[nf_] = df[f].fillna(0.0)\n",
    "#         print(df[nf_].isnull().sum())"
   ]
  },
  {
   "cell_type": "code",
   "execution_count": 12,
   "id": "1644d7d8",
   "metadata": {},
   "outputs": [],
   "source": [
    "for df in [train_df,test_df]:\n",
    "    for f in ['Bankruptcies']:\n",
    "        nf_ = f#+'_NAN_0'\n",
    "        df[nf_] = df[f].fillna(0.0)\n",
    "#         print(df[nf_].isnull().sum())"
   ]
  },
  {
   "cell_type": "code",
   "execution_count": 13,
   "id": "57ce58d7",
   "metadata": {},
   "outputs": [
    {
     "data": {
      "text/plain": [
       "130"
      ]
     },
     "execution_count": 13,
     "metadata": {},
     "output_type": "execute_result"
    }
   ],
   "source": [
    "gc.collect()"
   ]
  },
  {
   "cell_type": "code",
   "execution_count": 14,
   "id": "b464f137",
   "metadata": {},
   "outputs": [
    {
     "name": "stdout",
     "output_type": "stream",
     "text": [
      "19\n"
     ]
    }
   ],
   "source": [
    "predictors = list(set(train_df.columns.tolist()) - set(['Id','Credit Default']))\n",
    "target = 'Credit Default'\n",
    "print(len(predictors))"
   ]
  },
  {
   "cell_type": "code",
   "execution_count": 15,
   "id": "53b7bd28",
   "metadata": {},
   "outputs": [
    {
     "name": "stdout",
     "output_type": "stream",
     "text": [
      "obj =  4\n",
      "num =  15\n"
     ]
    }
   ],
   "source": [
    "obj = train_df[predictors].select_dtypes(include = 'O').columns.tolist()\n",
    "num = list(set(predictors)-set(obj))\n",
    "print ('obj = ', len(obj))\n",
    "print ('num = ', len(num))"
   ]
  },
  {
   "cell_type": "code",
   "execution_count": 16,
   "id": "ce35c9f1",
   "metadata": {},
   "outputs": [
    {
     "data": {
      "text/plain": [
       "4"
      ]
     },
     "execution_count": 16,
     "metadata": {},
     "output_type": "execute_result"
    }
   ],
   "source": [
    "bin_pred =[f for f in list(set(predictors)) if train_df[f].nunique(dropna=False)<=2]\n",
    "len(bin_pred)"
   ]
  },
  {
   "cell_type": "code",
   "execution_count": 17,
   "id": "743868ec",
   "metadata": {},
   "outputs": [
    {
     "name": "stdout",
     "output_type": "stream",
     "text": [
      "num =  12\n",
      "obj =  3\n"
     ]
    }
   ],
   "source": [
    "num = list(set(num)-set(bin_pred))\n",
    "obj = list(set(obj)-set(bin_pred))\n",
    "print ('num = ', len(num))\n",
    "print ('obj = ', len(obj))"
   ]
  },
  {
   "cell_type": "code",
   "execution_count": 18,
   "id": "abc8f540",
   "metadata": {},
   "outputs": [
    {
     "data": {
      "text/plain": [
       "['Annual Income_flNull',\n",
       " 'Months since last delinquent_flNull',\n",
       " 'Bankruptcies_flNull',\n",
       " 'Term']"
      ]
     },
     "execution_count": 18,
     "metadata": {},
     "output_type": "execute_result"
    }
   ],
   "source": [
    "bin_pred"
   ]
  },
  {
   "cell_type": "code",
   "execution_count": 19,
   "id": "bd47c88d",
   "metadata": {},
   "outputs": [
    {
     "data": {
      "text/plain": [
       "['Purpose', 'Home Ownership', 'Years in current job']"
      ]
     },
     "execution_count": 19,
     "metadata": {},
     "output_type": "execute_result"
    }
   ],
   "source": [
    "obj"
   ]
  },
  {
   "cell_type": "code",
   "execution_count": 20,
   "id": "1057d31c",
   "metadata": {},
   "outputs": [
    {
     "data": {
      "text/plain": [
       "['Credit Score',\n",
       " 'Bankruptcies',\n",
       " 'Monthly Debt',\n",
       " 'Tax Liens',\n",
       " 'Years of Credit History',\n",
       " 'Current Loan Amount',\n",
       " 'Current Credit Balance',\n",
       " 'Number of Credit Problems',\n",
       " 'Number of Open Accounts',\n",
       " 'Annual Income',\n",
       " 'Months since last delinquent',\n",
       " 'Maximum Open Credit']"
      ]
     },
     "execution_count": 20,
     "metadata": {},
     "output_type": "execute_result"
    }
   ],
   "source": [
    "num"
   ]
  },
  {
   "cell_type": "code",
   "execution_count": 21,
   "id": "69598438",
   "metadata": {},
   "outputs": [],
   "source": [
    "num_pred = num.copy()\n",
    "obj_pred = obj.copy()"
   ]
  },
  {
   "cell_type": "code",
   "execution_count": 22,
   "id": "bc1897d1",
   "metadata": {},
   "outputs": [],
   "source": [
    "for i in predictors:\n",
    "    if i not in bin_pred+num_pred+obj_pred:\n",
    "        print (i)"
   ]
  },
  {
   "cell_type": "markdown",
   "id": "d417df8d",
   "metadata": {},
   "source": [
    "# Correlation check"
   ]
  },
  {
   "cell_type": "code",
   "execution_count": 23,
   "id": "630b301c",
   "metadata": {
    "scrolled": true
   },
   "outputs": [
    {
     "data": {
      "text/html": [
       "<div>\n",
       "<style scoped>\n",
       "    .dataframe tbody tr th:only-of-type {\n",
       "        vertical-align: middle;\n",
       "    }\n",
       "\n",
       "    .dataframe tbody tr th {\n",
       "        vertical-align: top;\n",
       "    }\n",
       "\n",
       "    .dataframe thead th {\n",
       "        text-align: right;\n",
       "    }\n",
       "</style>\n",
       "<table border=\"1\" class=\"dataframe\">\n",
       "  <thead>\n",
       "    <tr style=\"text-align: right;\">\n",
       "      <th></th>\n",
       "      <th>Id</th>\n",
       "      <th>Annual Income</th>\n",
       "      <th>Tax Liens</th>\n",
       "      <th>Number of Open Accounts</th>\n",
       "      <th>Years of Credit History</th>\n",
       "      <th>Maximum Open Credit</th>\n",
       "      <th>Number of Credit Problems</th>\n",
       "      <th>Months since last delinquent</th>\n",
       "      <th>Bankruptcies</th>\n",
       "      <th>Current Loan Amount</th>\n",
       "      <th>Current Credit Balance</th>\n",
       "      <th>Monthly Debt</th>\n",
       "      <th>Credit Score</th>\n",
       "      <th>Credit Default</th>\n",
       "      <th>Annual Income_flNull</th>\n",
       "      <th>Months since last delinquent_flNull</th>\n",
       "      <th>Bankruptcies_flNull</th>\n",
       "    </tr>\n",
       "  </thead>\n",
       "  <tbody>\n",
       "    <tr>\n",
       "      <th>Id</th>\n",
       "      <td>1.000000</td>\n",
       "      <td>1.015464e-02</td>\n",
       "      <td>0.003393</td>\n",
       "      <td>0.004145</td>\n",
       "      <td>-0.009556</td>\n",
       "      <td>-0.022672</td>\n",
       "      <td>0.008264</td>\n",
       "      <td>0.011222</td>\n",
       "      <td>0.003357</td>\n",
       "      <td>-0.008485</td>\n",
       "      <td>-0.015758</td>\n",
       "      <td>0.005590</td>\n",
       "      <td>0.036498</td>\n",
       "      <td>0.012858</td>\n",
       "      <td>-1.401903e-02</td>\n",
       "      <td>-0.010536</td>\n",
       "      <td>-0.012201</td>\n",
       "    </tr>\n",
       "    <tr>\n",
       "      <th>Annual Income</th>\n",
       "      <td>0.010155</td>\n",
       "      <td>1.000000e+00</td>\n",
       "      <td>0.058466</td>\n",
       "      <td>0.167589</td>\n",
       "      <td>0.166076</td>\n",
       "      <td>0.021275</td>\n",
       "      <td>-0.013705</td>\n",
       "      <td>0.005662</td>\n",
       "      <td>-0.059775</td>\n",
       "      <td>0.031525</td>\n",
       "      <td>0.347631</td>\n",
       "      <td>0.518798</td>\n",
       "      <td>-0.037832</td>\n",
       "      <td>-0.088697</td>\n",
       "      <td>-1.111530e-16</td>\n",
       "      <td>-0.061541</td>\n",
       "      <td>-0.035827</td>\n",
       "    </tr>\n",
       "    <tr>\n",
       "      <th>Tax Liens</th>\n",
       "      <td>0.003393</td>\n",
       "      <td>5.846638e-02</td>\n",
       "      <td>1.000000</td>\n",
       "      <td>-0.005360</td>\n",
       "      <td>0.009109</td>\n",
       "      <td>-0.002410</td>\n",
       "      <td>0.595339</td>\n",
       "      <td>0.070684</td>\n",
       "      <td>0.057423</td>\n",
       "      <td>-0.007835</td>\n",
       "      <td>-0.010195</td>\n",
       "      <td>0.027211</td>\n",
       "      <td>0.010581</td>\n",
       "      <td>0.024368</td>\n",
       "      <td>6.151984e-03</td>\n",
       "      <td>-0.053204</td>\n",
       "      <td>-0.004798</td>\n",
       "    </tr>\n",
       "    <tr>\n",
       "      <th>Number of Open Accounts</th>\n",
       "      <td>0.004145</td>\n",
       "      <td>1.675893e-01</td>\n",
       "      <td>-0.005360</td>\n",
       "      <td>1.000000</td>\n",
       "      <td>0.144819</td>\n",
       "      <td>0.023897</td>\n",
       "      <td>-0.017813</td>\n",
       "      <td>0.033982</td>\n",
       "      <td>-0.018859</td>\n",
       "      <td>0.001346</td>\n",
       "      <td>0.267325</td>\n",
       "      <td>0.413904</td>\n",
       "      <td>0.016095</td>\n",
       "      <td>0.028884</td>\n",
       "      <td>2.152277e-03</td>\n",
       "      <td>-0.062793</td>\n",
       "      <td>-0.016886</td>\n",
       "    </tr>\n",
       "    <tr>\n",
       "      <th>Years of Credit History</th>\n",
       "      <td>-0.009556</td>\n",
       "      <td>1.660758e-01</td>\n",
       "      <td>0.009109</td>\n",
       "      <td>0.144819</td>\n",
       "      <td>1.000000</td>\n",
       "      <td>0.029247</td>\n",
       "      <td>0.071259</td>\n",
       "      <td>0.097312</td>\n",
       "      <td>0.085592</td>\n",
       "      <td>0.010623</td>\n",
       "      <td>0.217856</td>\n",
       "      <td>0.191978</td>\n",
       "      <td>-0.015683</td>\n",
       "      <td>-0.020567</td>\n",
       "      <td>1.400793e-03</td>\n",
       "      <td>-0.136283</td>\n",
       "      <td>0.001165</td>\n",
       "    </tr>\n",
       "    <tr>\n",
       "      <th>Maximum Open Credit</th>\n",
       "      <td>-0.022672</td>\n",
       "      <td>2.127477e-02</td>\n",
       "      <td>-0.002410</td>\n",
       "      <td>0.023897</td>\n",
       "      <td>0.029247</td>\n",
       "      <td>1.000000</td>\n",
       "      <td>-0.004750</td>\n",
       "      <td>-0.010358</td>\n",
       "      <td>-0.011632</td>\n",
       "      <td>-0.002334</td>\n",
       "      <td>0.088090</td>\n",
       "      <td>0.010197</td>\n",
       "      <td>-0.009136</td>\n",
       "      <td>-0.014275</td>\n",
       "      <td>1.737356e-02</td>\n",
       "      <td>0.012672</td>\n",
       "      <td>-0.001117</td>\n",
       "    </tr>\n",
       "    <tr>\n",
       "      <th>Number of Credit Problems</th>\n",
       "      <td>0.008264</td>\n",
       "      <td>-1.370497e-02</td>\n",
       "      <td>0.595339</td>\n",
       "      <td>-0.017813</td>\n",
       "      <td>0.071259</td>\n",
       "      <td>-0.004750</td>\n",
       "      <td>1.000000</td>\n",
       "      <td>0.108892</td>\n",
       "      <td>0.730808</td>\n",
       "      <td>-0.008596</td>\n",
       "      <td>-0.124137</td>\n",
       "      <td>-0.042252</td>\n",
       "      <td>-0.018473</td>\n",
       "      <td>0.020088</td>\n",
       "      <td>1.523152e-03</td>\n",
       "      <td>-0.049814</td>\n",
       "      <td>-0.014746</td>\n",
       "    </tr>\n",
       "    <tr>\n",
       "      <th>Months since last delinquent</th>\n",
       "      <td>0.011222</td>\n",
       "      <td>5.661689e-03</td>\n",
       "      <td>0.070684</td>\n",
       "      <td>0.033982</td>\n",
       "      <td>0.097312</td>\n",
       "      <td>-0.010358</td>\n",
       "      <td>0.108892</td>\n",
       "      <td>1.000000</td>\n",
       "      <td>0.067634</td>\n",
       "      <td>-0.016163</td>\n",
       "      <td>-0.082444</td>\n",
       "      <td>-0.002832</td>\n",
       "      <td>-0.002758</td>\n",
       "      <td>0.010110</td>\n",
       "      <td>-1.456266e-02</td>\n",
       "      <td>-0.762922</td>\n",
       "      <td>-0.007149</td>\n",
       "    </tr>\n",
       "    <tr>\n",
       "      <th>Bankruptcies</th>\n",
       "      <td>0.003357</td>\n",
       "      <td>-5.977484e-02</td>\n",
       "      <td>0.057423</td>\n",
       "      <td>-0.018859</td>\n",
       "      <td>0.085592</td>\n",
       "      <td>-0.011632</td>\n",
       "      <td>0.730808</td>\n",
       "      <td>0.067634</td>\n",
       "      <td>1.000000</td>\n",
       "      <td>-0.006169</td>\n",
       "      <td>-0.142553</td>\n",
       "      <td>-0.078847</td>\n",
       "      <td>-0.027892</td>\n",
       "      <td>0.001640</td>\n",
       "      <td>-4.800303e-03</td>\n",
       "      <td>0.005244</td>\n",
       "      <td>-0.014578</td>\n",
       "    </tr>\n",
       "    <tr>\n",
       "      <th>Current Loan Amount</th>\n",
       "      <td>-0.008485</td>\n",
       "      <td>3.152501e-02</td>\n",
       "      <td>-0.007835</td>\n",
       "      <td>0.001346</td>\n",
       "      <td>0.010623</td>\n",
       "      <td>-0.002334</td>\n",
       "      <td>-0.008596</td>\n",
       "      <td>-0.016163</td>\n",
       "      <td>-0.006169</td>\n",
       "      <td>1.000000</td>\n",
       "      <td>0.016672</td>\n",
       "      <td>-0.009382</td>\n",
       "      <td>-0.108552</td>\n",
       "      <td>-0.226522</td>\n",
       "      <td>-1.855448e-01</td>\n",
       "      <td>0.021441</td>\n",
       "      <td>0.013160</td>\n",
       "    </tr>\n",
       "    <tr>\n",
       "      <th>Current Credit Balance</th>\n",
       "      <td>-0.015758</td>\n",
       "      <td>3.476306e-01</td>\n",
       "      <td>-0.010195</td>\n",
       "      <td>0.267325</td>\n",
       "      <td>0.217856</td>\n",
       "      <td>0.088090</td>\n",
       "      <td>-0.124137</td>\n",
       "      <td>-0.082444</td>\n",
       "      <td>-0.142553</td>\n",
       "      <td>0.016672</td>\n",
       "      <td>1.000000</td>\n",
       "      <td>0.504964</td>\n",
       "      <td>-0.006159</td>\n",
       "      <td>-0.019522</td>\n",
       "      <td>-6.075626e-03</td>\n",
       "      <td>0.093731</td>\n",
       "      <td>-0.013848</td>\n",
       "    </tr>\n",
       "    <tr>\n",
       "      <th>Monthly Debt</th>\n",
       "      <td>0.005590</td>\n",
       "      <td>5.187985e-01</td>\n",
       "      <td>0.027211</td>\n",
       "      <td>0.413904</td>\n",
       "      <td>0.191978</td>\n",
       "      <td>0.010197</td>\n",
       "      <td>-0.042252</td>\n",
       "      <td>-0.002832</td>\n",
       "      <td>-0.078847</td>\n",
       "      <td>-0.009382</td>\n",
       "      <td>0.504964</td>\n",
       "      <td>1.000000</td>\n",
       "      <td>0.000234</td>\n",
       "      <td>0.018480</td>\n",
       "      <td>5.865018e-03</td>\n",
       "      <td>-0.028612</td>\n",
       "      <td>-0.042837</td>\n",
       "    </tr>\n",
       "    <tr>\n",
       "      <th>Credit Score</th>\n",
       "      <td>0.036498</td>\n",
       "      <td>-3.783175e-02</td>\n",
       "      <td>0.010581</td>\n",
       "      <td>0.016095</td>\n",
       "      <td>-0.015683</td>\n",
       "      <td>-0.009136</td>\n",
       "      <td>-0.018473</td>\n",
       "      <td>-0.002758</td>\n",
       "      <td>-0.027892</td>\n",
       "      <td>-0.108552</td>\n",
       "      <td>-0.006159</td>\n",
       "      <td>0.000234</td>\n",
       "      <td>1.000000</td>\n",
       "      <td>0.442050</td>\n",
       "      <td>NaN</td>\n",
       "      <td>0.001077</td>\n",
       "      <td>0.033794</td>\n",
       "    </tr>\n",
       "    <tr>\n",
       "      <th>Credit Default</th>\n",
       "      <td>0.012858</td>\n",
       "      <td>-8.869688e-02</td>\n",
       "      <td>0.024368</td>\n",
       "      <td>0.028884</td>\n",
       "      <td>-0.020567</td>\n",
       "      <td>-0.014275</td>\n",
       "      <td>0.020088</td>\n",
       "      <td>0.010110</td>\n",
       "      <td>0.001640</td>\n",
       "      <td>-0.226522</td>\n",
       "      <td>-0.019522</td>\n",
       "      <td>0.018480</td>\n",
       "      <td>0.442050</td>\n",
       "      <td>1.000000</td>\n",
       "      <td>6.602018e-02</td>\n",
       "      <td>-0.011756</td>\n",
       "      <td>0.000383</td>\n",
       "    </tr>\n",
       "    <tr>\n",
       "      <th>Annual Income_flNull</th>\n",
       "      <td>-0.014019</td>\n",
       "      <td>-1.111530e-16</td>\n",
       "      <td>0.006152</td>\n",
       "      <td>0.002152</td>\n",
       "      <td>0.001401</td>\n",
       "      <td>0.017374</td>\n",
       "      <td>0.001523</td>\n",
       "      <td>-0.014563</td>\n",
       "      <td>-0.004800</td>\n",
       "      <td>-0.185545</td>\n",
       "      <td>-0.006076</td>\n",
       "      <td>0.005865</td>\n",
       "      <td>NaN</td>\n",
       "      <td>0.066020</td>\n",
       "      <td>1.000000e+00</td>\n",
       "      <td>0.017679</td>\n",
       "      <td>-0.006903</td>\n",
       "    </tr>\n",
       "    <tr>\n",
       "      <th>Months since last delinquent_flNull</th>\n",
       "      <td>-0.010536</td>\n",
       "      <td>-6.154144e-02</td>\n",
       "      <td>-0.053204</td>\n",
       "      <td>-0.062793</td>\n",
       "      <td>-0.136283</td>\n",
       "      <td>0.012672</td>\n",
       "      <td>-0.049814</td>\n",
       "      <td>-0.762922</td>\n",
       "      <td>0.005244</td>\n",
       "      <td>0.021441</td>\n",
       "      <td>0.093731</td>\n",
       "      <td>-0.028612</td>\n",
       "      <td>0.001077</td>\n",
       "      <td>-0.011756</td>\n",
       "      <td>1.767922e-02</td>\n",
       "      <td>1.000000</td>\n",
       "      <td>-0.047247</td>\n",
       "    </tr>\n",
       "    <tr>\n",
       "      <th>Bankruptcies_flNull</th>\n",
       "      <td>-0.012201</td>\n",
       "      <td>-3.582741e-02</td>\n",
       "      <td>-0.004798</td>\n",
       "      <td>-0.016886</td>\n",
       "      <td>0.001165</td>\n",
       "      <td>-0.001117</td>\n",
       "      <td>-0.014746</td>\n",
       "      <td>-0.007149</td>\n",
       "      <td>-0.014578</td>\n",
       "      <td>0.013160</td>\n",
       "      <td>-0.013848</td>\n",
       "      <td>-0.042837</td>\n",
       "      <td>0.033794</td>\n",
       "      <td>0.000383</td>\n",
       "      <td>-6.903114e-03</td>\n",
       "      <td>-0.047247</td>\n",
       "      <td>1.000000</td>\n",
       "    </tr>\n",
       "  </tbody>\n",
       "</table>\n",
       "</div>"
      ],
      "text/plain": [
       "                                           Id  Annual Income  Tax Liens  \\\n",
       "Id                                   1.000000   1.015464e-02   0.003393   \n",
       "Annual Income                        0.010155   1.000000e+00   0.058466   \n",
       "Tax Liens                            0.003393   5.846638e-02   1.000000   \n",
       "Number of Open Accounts              0.004145   1.675893e-01  -0.005360   \n",
       "Years of Credit History             -0.009556   1.660758e-01   0.009109   \n",
       "Maximum Open Credit                 -0.022672   2.127477e-02  -0.002410   \n",
       "Number of Credit Problems            0.008264  -1.370497e-02   0.595339   \n",
       "Months since last delinquent         0.011222   5.661689e-03   0.070684   \n",
       "Bankruptcies                         0.003357  -5.977484e-02   0.057423   \n",
       "Current Loan Amount                 -0.008485   3.152501e-02  -0.007835   \n",
       "Current Credit Balance              -0.015758   3.476306e-01  -0.010195   \n",
       "Monthly Debt                         0.005590   5.187985e-01   0.027211   \n",
       "Credit Score                         0.036498  -3.783175e-02   0.010581   \n",
       "Credit Default                       0.012858  -8.869688e-02   0.024368   \n",
       "Annual Income_flNull                -0.014019  -1.111530e-16   0.006152   \n",
       "Months since last delinquent_flNull -0.010536  -6.154144e-02  -0.053204   \n",
       "Bankruptcies_flNull                 -0.012201  -3.582741e-02  -0.004798   \n",
       "\n",
       "                                     Number of Open Accounts  \\\n",
       "Id                                                  0.004145   \n",
       "Annual Income                                       0.167589   \n",
       "Tax Liens                                          -0.005360   \n",
       "Number of Open Accounts                             1.000000   \n",
       "Years of Credit History                             0.144819   \n",
       "Maximum Open Credit                                 0.023897   \n",
       "Number of Credit Problems                          -0.017813   \n",
       "Months since last delinquent                        0.033982   \n",
       "Bankruptcies                                       -0.018859   \n",
       "Current Loan Amount                                 0.001346   \n",
       "Current Credit Balance                              0.267325   \n",
       "Monthly Debt                                        0.413904   \n",
       "Credit Score                                        0.016095   \n",
       "Credit Default                                      0.028884   \n",
       "Annual Income_flNull                                0.002152   \n",
       "Months since last delinquent_flNull                -0.062793   \n",
       "Bankruptcies_flNull                                -0.016886   \n",
       "\n",
       "                                     Years of Credit History  \\\n",
       "Id                                                 -0.009556   \n",
       "Annual Income                                       0.166076   \n",
       "Tax Liens                                           0.009109   \n",
       "Number of Open Accounts                             0.144819   \n",
       "Years of Credit History                             1.000000   \n",
       "Maximum Open Credit                                 0.029247   \n",
       "Number of Credit Problems                           0.071259   \n",
       "Months since last delinquent                        0.097312   \n",
       "Bankruptcies                                        0.085592   \n",
       "Current Loan Amount                                 0.010623   \n",
       "Current Credit Balance                              0.217856   \n",
       "Monthly Debt                                        0.191978   \n",
       "Credit Score                                       -0.015683   \n",
       "Credit Default                                     -0.020567   \n",
       "Annual Income_flNull                                0.001401   \n",
       "Months since last delinquent_flNull                -0.136283   \n",
       "Bankruptcies_flNull                                 0.001165   \n",
       "\n",
       "                                     Maximum Open Credit  \\\n",
       "Id                                             -0.022672   \n",
       "Annual Income                                   0.021275   \n",
       "Tax Liens                                      -0.002410   \n",
       "Number of Open Accounts                         0.023897   \n",
       "Years of Credit History                         0.029247   \n",
       "Maximum Open Credit                             1.000000   \n",
       "Number of Credit Problems                      -0.004750   \n",
       "Months since last delinquent                   -0.010358   \n",
       "Bankruptcies                                   -0.011632   \n",
       "Current Loan Amount                            -0.002334   \n",
       "Current Credit Balance                          0.088090   \n",
       "Monthly Debt                                    0.010197   \n",
       "Credit Score                                   -0.009136   \n",
       "Credit Default                                 -0.014275   \n",
       "Annual Income_flNull                            0.017374   \n",
       "Months since last delinquent_flNull             0.012672   \n",
       "Bankruptcies_flNull                            -0.001117   \n",
       "\n",
       "                                     Number of Credit Problems  \\\n",
       "Id                                                    0.008264   \n",
       "Annual Income                                        -0.013705   \n",
       "Tax Liens                                             0.595339   \n",
       "Number of Open Accounts                              -0.017813   \n",
       "Years of Credit History                               0.071259   \n",
       "Maximum Open Credit                                  -0.004750   \n",
       "Number of Credit Problems                             1.000000   \n",
       "Months since last delinquent                          0.108892   \n",
       "Bankruptcies                                          0.730808   \n",
       "Current Loan Amount                                  -0.008596   \n",
       "Current Credit Balance                               -0.124137   \n",
       "Monthly Debt                                         -0.042252   \n",
       "Credit Score                                         -0.018473   \n",
       "Credit Default                                        0.020088   \n",
       "Annual Income_flNull                                  0.001523   \n",
       "Months since last delinquent_flNull                  -0.049814   \n",
       "Bankruptcies_flNull                                  -0.014746   \n",
       "\n",
       "                                     Months since last delinquent  \\\n",
       "Id                                                       0.011222   \n",
       "Annual Income                                            0.005662   \n",
       "Tax Liens                                                0.070684   \n",
       "Number of Open Accounts                                  0.033982   \n",
       "Years of Credit History                                  0.097312   \n",
       "Maximum Open Credit                                     -0.010358   \n",
       "Number of Credit Problems                                0.108892   \n",
       "Months since last delinquent                             1.000000   \n",
       "Bankruptcies                                             0.067634   \n",
       "Current Loan Amount                                     -0.016163   \n",
       "Current Credit Balance                                  -0.082444   \n",
       "Monthly Debt                                            -0.002832   \n",
       "Credit Score                                            -0.002758   \n",
       "Credit Default                                           0.010110   \n",
       "Annual Income_flNull                                    -0.014563   \n",
       "Months since last delinquent_flNull                     -0.762922   \n",
       "Bankruptcies_flNull                                     -0.007149   \n",
       "\n",
       "                                     Bankruptcies  Current Loan Amount  \\\n",
       "Id                                       0.003357            -0.008485   \n",
       "Annual Income                           -0.059775             0.031525   \n",
       "Tax Liens                                0.057423            -0.007835   \n",
       "Number of Open Accounts                 -0.018859             0.001346   \n",
       "Years of Credit History                  0.085592             0.010623   \n",
       "Maximum Open Credit                     -0.011632            -0.002334   \n",
       "Number of Credit Problems                0.730808            -0.008596   \n",
       "Months since last delinquent             0.067634            -0.016163   \n",
       "Bankruptcies                             1.000000            -0.006169   \n",
       "Current Loan Amount                     -0.006169             1.000000   \n",
       "Current Credit Balance                  -0.142553             0.016672   \n",
       "Monthly Debt                            -0.078847            -0.009382   \n",
       "Credit Score                            -0.027892            -0.108552   \n",
       "Credit Default                           0.001640            -0.226522   \n",
       "Annual Income_flNull                    -0.004800            -0.185545   \n",
       "Months since last delinquent_flNull      0.005244             0.021441   \n",
       "Bankruptcies_flNull                     -0.014578             0.013160   \n",
       "\n",
       "                                     Current Credit Balance  Monthly Debt  \\\n",
       "Id                                                -0.015758      0.005590   \n",
       "Annual Income                                      0.347631      0.518798   \n",
       "Tax Liens                                         -0.010195      0.027211   \n",
       "Number of Open Accounts                            0.267325      0.413904   \n",
       "Years of Credit History                            0.217856      0.191978   \n",
       "Maximum Open Credit                                0.088090      0.010197   \n",
       "Number of Credit Problems                         -0.124137     -0.042252   \n",
       "Months since last delinquent                      -0.082444     -0.002832   \n",
       "Bankruptcies                                      -0.142553     -0.078847   \n",
       "Current Loan Amount                                0.016672     -0.009382   \n",
       "Current Credit Balance                             1.000000      0.504964   \n",
       "Monthly Debt                                       0.504964      1.000000   \n",
       "Credit Score                                      -0.006159      0.000234   \n",
       "Credit Default                                    -0.019522      0.018480   \n",
       "Annual Income_flNull                              -0.006076      0.005865   \n",
       "Months since last delinquent_flNull                0.093731     -0.028612   \n",
       "Bankruptcies_flNull                               -0.013848     -0.042837   \n",
       "\n",
       "                                     Credit Score  Credit Default  \\\n",
       "Id                                       0.036498        0.012858   \n",
       "Annual Income                           -0.037832       -0.088697   \n",
       "Tax Liens                                0.010581        0.024368   \n",
       "Number of Open Accounts                  0.016095        0.028884   \n",
       "Years of Credit History                 -0.015683       -0.020567   \n",
       "Maximum Open Credit                     -0.009136       -0.014275   \n",
       "Number of Credit Problems               -0.018473        0.020088   \n",
       "Months since last delinquent            -0.002758        0.010110   \n",
       "Bankruptcies                            -0.027892        0.001640   \n",
       "Current Loan Amount                     -0.108552       -0.226522   \n",
       "Current Credit Balance                  -0.006159       -0.019522   \n",
       "Monthly Debt                             0.000234        0.018480   \n",
       "Credit Score                             1.000000        0.442050   \n",
       "Credit Default                           0.442050        1.000000   \n",
       "Annual Income_flNull                          NaN        0.066020   \n",
       "Months since last delinquent_flNull      0.001077       -0.011756   \n",
       "Bankruptcies_flNull                      0.033794        0.000383   \n",
       "\n",
       "                                     Annual Income_flNull  \\\n",
       "Id                                          -1.401903e-02   \n",
       "Annual Income                               -1.111530e-16   \n",
       "Tax Liens                                    6.151984e-03   \n",
       "Number of Open Accounts                      2.152277e-03   \n",
       "Years of Credit History                      1.400793e-03   \n",
       "Maximum Open Credit                          1.737356e-02   \n",
       "Number of Credit Problems                    1.523152e-03   \n",
       "Months since last delinquent                -1.456266e-02   \n",
       "Bankruptcies                                -4.800303e-03   \n",
       "Current Loan Amount                         -1.855448e-01   \n",
       "Current Credit Balance                      -6.075626e-03   \n",
       "Monthly Debt                                 5.865018e-03   \n",
       "Credit Score                                          NaN   \n",
       "Credit Default                               6.602018e-02   \n",
       "Annual Income_flNull                         1.000000e+00   \n",
       "Months since last delinquent_flNull          1.767922e-02   \n",
       "Bankruptcies_flNull                         -6.903114e-03   \n",
       "\n",
       "                                     Months since last delinquent_flNull  \\\n",
       "Id                                                             -0.010536   \n",
       "Annual Income                                                  -0.061541   \n",
       "Tax Liens                                                      -0.053204   \n",
       "Number of Open Accounts                                        -0.062793   \n",
       "Years of Credit History                                        -0.136283   \n",
       "Maximum Open Credit                                             0.012672   \n",
       "Number of Credit Problems                                      -0.049814   \n",
       "Months since last delinquent                                   -0.762922   \n",
       "Bankruptcies                                                    0.005244   \n",
       "Current Loan Amount                                             0.021441   \n",
       "Current Credit Balance                                          0.093731   \n",
       "Monthly Debt                                                   -0.028612   \n",
       "Credit Score                                                    0.001077   \n",
       "Credit Default                                                 -0.011756   \n",
       "Annual Income_flNull                                            0.017679   \n",
       "Months since last delinquent_flNull                             1.000000   \n",
       "Bankruptcies_flNull                                            -0.047247   \n",
       "\n",
       "                                     Bankruptcies_flNull  \n",
       "Id                                             -0.012201  \n",
       "Annual Income                                  -0.035827  \n",
       "Tax Liens                                      -0.004798  \n",
       "Number of Open Accounts                        -0.016886  \n",
       "Years of Credit History                         0.001165  \n",
       "Maximum Open Credit                            -0.001117  \n",
       "Number of Credit Problems                      -0.014746  \n",
       "Months since last delinquent                   -0.007149  \n",
       "Bankruptcies                                   -0.014578  \n",
       "Current Loan Amount                             0.013160  \n",
       "Current Credit Balance                         -0.013848  \n",
       "Monthly Debt                                   -0.042837  \n",
       "Credit Score                                    0.033794  \n",
       "Credit Default                                  0.000383  \n",
       "Annual Income_flNull                           -0.006903  \n",
       "Months since last delinquent_flNull            -0.047247  \n",
       "Bankruptcies_flNull                             1.000000  "
      ]
     },
     "execution_count": 23,
     "metadata": {},
     "output_type": "execute_result"
    }
   ],
   "source": [
    "train_df.corr()"
   ]
  },
  {
   "cell_type": "code",
   "execution_count": 24,
   "id": "669d5937",
   "metadata": {},
   "outputs": [
    {
     "data": {
      "text/plain": [
       "<AxesSubplot:>"
      ]
     },
     "execution_count": 24,
     "metadata": {},
     "output_type": "execute_result"
    },
    {
     "data": {
      "image/png": "[encoded data removed]",
      "text/plain": [
       "<Figure size 2160x720 with 2 Axes>"
      ]
     },
     "metadata": {
      "needs_background": "light"
     },
     "output_type": "display_data"
    }
   ],
   "source": [
    "plt.figure(figsize=(30,10))\n",
    "sns.heatmap(train_df.corr(),annot=True,fmt=\".2g\")"
   ]
  },
  {
   "cell_type": "code",
   "execution_count": 25,
   "id": "bbf01c1b",
   "metadata": {},
   "outputs": [
    {
     "name": "stdout",
     "output_type": "stream",
     "text": [
      "12\n",
      "11\n"
     ]
    }
   ],
   "source": [
    "print(len(num_pred))\n",
    "num_pred.remove('Months since last delinquent')\n",
    "bin_pred.remove('Term')\n",
    "print(len(num_pred))"
   ]
  },
  {
   "cell_type": "markdown",
   "id": "741617ec",
   "metadata": {},
   "source": [
    "# LogisticRegression"
   ]
  },
  {
   "cell_type": "code",
   "execution_count": 26,
   "id": "4cd874f7",
   "metadata": {},
   "outputs": [],
   "source": [
    "X_train, X_test, y_train, y_test = train_test_split(train_df, train_df[target], test_size=0.2, random_state=42)"
   ]
  },
  {
   "cell_type": "code",
   "execution_count": 27,
   "id": "b8a6bb8e",
   "metadata": {},
   "outputs": [],
   "source": [
    "from sklearn.linear_model import LogisticRegression\n",
    "from sklearn.impute import SimpleImputer\n",
    "from sklearn.preprocessing import MinMaxScaler\n",
    "import category_encoders as ce\n",
    "from sklearn.compose import ColumnTransformer\n",
    "from sklearn.pipeline import  Pipeline\n",
    "from sklearn.model_selection import cross_validate\n",
    "\n",
    "class PassthroughTransformer:\n",
    "    def __init__(self):\n",
    "        pass\n",
    "    def fit(self,X,y=None):\n",
    "        if isinstance(X,pd.DataFrame):\n",
    "            self.colnames = X.columns.tolist()\n",
    "        else:\n",
    "            self.colnames = [str(col) for col in np.arange(0,X.shape[0])]\n",
    "        return self\n",
    "    def transform(self,X):\n",
    "        return X\n",
    "    def get_feature_names(self):\n",
    "        return self.colnames"
   ]
  },
  {
   "cell_type": "code",
   "execution_count": 28,
   "id": "f28b0348",
   "metadata": {},
   "outputs": [
    {
     "name": "stdout",
     "output_type": "stream",
     "text": [
      "17 17\n"
     ]
    }
   ],
   "source": [
    "obj_lg_pipe_woe = Pipeline([('woe', ce.WOEEncoder(handle_unknown='value'))])\n",
    "tr_standart_zero=Pipeline([('imp', SimpleImputer(fill_value=0, strategy='constant'))])\n",
    "tr_passthrough= Pipeline([('transf',PassthroughTransformer())])  \n",
    "    \n",
    "transformers_f = [('obj_lg_pipe_woe',         obj_lg_pipe_woe,           obj_pred),  \n",
    "                  ('tr_standart_zero',        tr_standart_zero,          num_pred), \n",
    "                  ('tr_passthrough',          tr_passthrough,            bin_pred)\n",
    "                 ] \n",
    "\n",
    "al_pipe_feats = obj_pred+num_pred+bin_pred\n",
    "                \n",
    "print (len(al_pipe_feats), len(set(al_pipe_feats)))\n",
    "transformer_com = ColumnTransformer (transformers=transformers_f)\n",
    "COM_pipe = Pipeline([('transf', transformer_com),\n",
    "                     ('scaler',MinMaxScaler()),\n",
    "                     ('lg', LogisticRegression(n_jobs=-1))])"
   ]
  },
  {
   "cell_type": "code",
   "execution_count": 29,
   "id": "817742aa",
   "metadata": {},
   "outputs": [],
   "source": [
    "tscv = TimeSeriesSplit(n_splits=3) "
   ]
  },
  {
   "cell_type": "code",
   "execution_count": 30,
   "id": "37575f78",
   "metadata": {
    "scrolled": true
   },
   "outputs": [
    {
     "name": "stderr",
     "output_type": "stream",
     "text": [
      "[Parallel(n_jobs=3)]: Using backend LokyBackend with 3 concurrent workers.\n"
     ]
    },
    {
     "name": "stdout",
     "output_type": "stream",
     "text": [
      "[0.3254902  0.3234127  0.32806324]\n",
      "[0.32677165 0.33201581 0.30612245]\n",
      "Train 0.3290386521308226\n",
      "Test 0.33707865168539325\n"
     ]
    },
    {
     "name": "stderr",
     "output_type": "stream",
     "text": [
      "[Parallel(n_jobs=3)]: Done   3 out of   3 | elapsed:    3.3s finished\n"
     ]
    }
   ],
   "source": [
    "cv_scres = cross_validate(COM_pipe,\n",
    "                          X_train[al_pipe_feats].reset_index(drop=True),\n",
    "                          y_train.reset_index(drop=True),\n",
    "                          return_train_score=True,\n",
    "                          verbose=3,\n",
    "                          cv=tscv,\n",
    "                          n_jobs=3,\n",
    "                          scoring = 'f1')\n",
    "print (cv_scres['train_score'])\n",
    "print (cv_scres['test_score'])\n",
    "COM_pipe.fit(X_train[al_pipe_feats].reset_index(drop=True),y_train.reset_index(drop=True))\n",
    "print ('Train', f1_score(y_train,COM_pipe.predict(X_train[al_pipe_feats])))\n",
    "print ('Test', f1_score(y_test,COM_pipe.predict(X_test[al_pipe_feats])))"
   ]
  },
  {
   "cell_type": "code",
   "execution_count": 31,
   "id": "3d9d855e",
   "metadata": {},
   "outputs": [],
   "source": [
    "from sklearn.pipeline import  Pipeline\n",
    "from hyperopt import hp, tpe, fmin, STATUS_OK, space_eval\n",
    "\n",
    "def hp_tuning (clf_, X, y, space_, folds_, scoring_):\n",
    "    def hyp_objective(params):\n",
    "        clf_.set_params(**params)\n",
    "\n",
    "        score = cross_validate(clf_, X, y, cv=folds_, \n",
    "                               scoring = scoring_,n_jobs =12, return_train_score=True)\n",
    "\n",
    "        train_score = score['train_score']\n",
    "        test_score  = score['test_score']\n",
    "        ovf = (train_score.mean()-test_score.mean())\n",
    "\n",
    "        it_score =  test_score.mean() - (ovf + test_score.std())\n",
    "        print (train_score)\n",
    "        print (test_score)\n",
    "        return it_score\n",
    "\n",
    "    def f(params):\n",
    "        acc = hyp_objective(params)\n",
    "        print (acc, params)\n",
    "        return {'loss': -acc, 'status': STATUS_OK}\n",
    "\n",
    "    best = fmin(fn=f,\n",
    "                space=space_,\n",
    "                algo=tpe.suggest,\n",
    "                rstate = np.random.default_rng(4),\n",
    "                max_evals=50)\n",
    "    return best"
   ]
  },
  {
   "cell_type": "code",
   "execution_count": 32,
   "id": "015f96a3",
   "metadata": {
    "scrolled": true
   },
   "outputs": [
    {
     "name": "stdout",
     "output_type": "stream",
     "text": [
      "[0.50146915 0.50294118 0.51308562]                                                                                     \n",
      "[0.4729064  0.49950642 0.49353234]                                                                                     \n",
      "0.4600694724364739                                                                                                     \n",
      "{'lg__C': 0.626, 'lg__class_weight': 'balanced', 'lg__solver': 'liblinear'}                                            \n",
      "[0.50246305 0.5036964  0.51298701]                                                                                     \n",
      "[0.46580773 0.50499002 0.49249249]                                                                                     \n",
      "0.4528027814123923                                                                                                     \n",
      "{'lg__C': 0.666, 'lg__class_weight': 'balanced', 'lg__solver': 'lbfgs'}                                                \n",
      "[0.32142857 0.32135729 0.32625995]                                                                                     \n",
      "[0.33067729 0.33333333 0.30674847]                                                                                     \n",
      "0.3122019936692918                                                                                                     \n",
      "{'lg__C': 0.459, 'lg__class_weight': None, 'lg__solver': 'saga'}                                                       \n",
      "[0.31474104 0.31863727 0.32356858]                                                                                     \n",
      "[0.32258065 0.33001988 0.30041152]                                                                                     \n",
      "0.3037827828635628                                                                                                     \n",
      "{'lg__C': 0.17200000000000001, 'lg__class_weight': None, 'lg__solver': 'saga'}                                         \n",
      "[0.49950836 0.4972973  0.5130719 ]                                                                                     \n",
      "[0.47128713 0.49603175 0.49098196]                                                                                     \n",
      "0.4582326139607514                                                                                                     \n",
      "{'lg__C': 0.329, 'lg__class_weight': 'balanced', 'lg__solver': 'newton-cg'}                                            \n",
      "[0.32142857 0.32135729 0.32625995]                                                                                     \n",
      "[0.33067729 0.33333333 0.30674847]                                                                                     \n",
      "0.3122019936692918                                                                                                     \n",
      "{'lg__C': 0.489, 'lg__class_weight': None, 'lg__solver': 'newton-cg'}                                                  \n",
      "[0.31809145 0.31863727 0.32446809]                                                                                     \n",
      "[0.32931727 0.33001988 0.30674847]                                                                                     \n",
      "0.312849690733205                                                                                                      \n",
      "{'lg__C': 0.28500000000000003, 'lg__class_weight': None, 'lg__solver': 'newton-cg'}                                    \n",
      "[0.31474104 0.31863727 0.32468397]                                                                                     \n",
      "[0.32258065 0.33001988 0.30041152]                                                                                     \n",
      "0.3034109861403943                                                                                                     \n",
      "{'lg__C': 0.32, 'lg__class_weight': None, 'lg__solver': 'liblinear'}                                                   \n",
      "[0.50148075 0.50665352 0.5111904 ]                                                                                     \n",
      "[0.46580773 0.50448654 0.49049049]                                                                                     \n",
      "0.45142475006297955                                                                                                    \n",
      "{'lg__C': 0.706, 'lg__class_weight': 'balanced', 'lg__solver': 'saga'}                                                 \n",
      "[0.49804688 0.49679645 0.50753111]                                                                                     \n",
      "[0.47012733 0.49003984 0.48888889]                                                                                     \n",
      "0.45611822318813966                                                                                                    \n",
      "{'lg__C': 0.22, 'lg__class_weight': 'balanced', 'lg__solver': 'saga'}                                                  \n",
      "[0.50197628 0.50690335 0.510859  ]                                                                                     \n",
      "[0.46534653 0.5059761  0.49049049]                                                                                     \n",
      "0.45122009614469427                                                                                                    \n",
      "{'lg__C': 0.72, 'lg__class_weight': 'balanced', 'lg__solver': 'sag'}                                                   \n",
      "[0.28744939 0.31863727 0.32133333]                                                                                     \n",
      "[0.28453608 0.32669323 0.30041152]                                                                                     \n",
      "0.281236070996887                                                                                                      \n",
      "{'lg__C': 0.045, 'lg__class_weight': None, 'lg__solver': 'liblinear'}                                                  \n",
      "[0.50246305 0.5044335  0.51217137]                                                                                     \n",
      "[0.46580773 0.50448654 0.492     ]                                                                                     \n",
      "0.4523892525071058                                                                                                     \n",
      "{'lg__C': 0.682, 'lg__class_weight': 'balanced', 'lg__solver': 'saga'}                                                 \n",
      "[0.32142857 0.32135729 0.32647644]                                                                                     \n",
      "[0.33067729 0.33333333 0.30674847]                                                                                     \n",
      "0.3121298282309044                                                                                                     \n",
      "{'lg__C': 0.428, 'lg__class_weight': None, 'lg__solver': 'lbfgs'}                                                      \n",
      "[0.5        0.5012285  0.51449039]                                                                                     \n",
      "[0.46673287 0.50346878 0.49445005]                                                                                     \n",
      "0.45556329092861647                                                                                                    \n",
      "{'lg__C': 0.453, 'lg__class_weight': 'balanced', 'lg__solver': 'lbfgs'}                                                \n",
      "[0.32220039 0.32206759 0.32717678]                                                                                     \n",
      "[0.32806324 0.33201581 0.30674847]                                                                                     \n",
      "0.30963930296049474                                                                                                    \n",
      "{'lg__C': 0.918, 'lg__class_weight': None, 'lg__solver': 'sag'}                                                        \n",
      "[0.31474104 0.31863727 0.3224517 ]                                                                                     \n",
      "[0.32258065 0.33001988 0.30041152]                                                                                     \n",
      "0.30415507498542976                                                                                                    \n",
      "{'lg__C': 0.254, 'lg__class_weight': None, 'lg__solver': 'liblinear'}                                                  \n",
      "[0.31474104 0.31863727 0.32335329]                                                                                     \n",
      "[0.32595573 0.33001988 0.30041152]                                                                                     \n",
      "0.3055758495129489                                                                                                     \n",
      "{'lg__C': 0.231, 'lg__class_weight': None, 'lg__solver': 'sag'}                                                        \n",
      "[0.31474104 0.31863727 0.32356858]                                                                                     \n",
      "[0.32595573 0.33001988 0.30041152]                                                                                     \n",
      "0.30550408890633257                                                                                                    \n",
      "{'lg__C': 0.20400000000000001, 'lg__class_weight': None, 'lg__solver': 'sag'}                                          \n",
      "[0.49560976 0.49851925 0.50589005]                                                                                     \n",
      "[0.46168768 0.49252243 0.48897796]                                                                                     \n",
      "0.4483426216935728                                                                                                     \n",
      "{'lg__C': 0.096, 'lg__class_weight': 'balanced', 'lg__solver': 'newton-cg'}                                            \n",
      "[0.51130777 0.50666667 0.51275428]                                                                                     \n",
      "[0.46290801 0.50840752 0.49108911]                                                                                     \n",
      "0.44594279814325055                                                                                                    \n",
      "{'lg__C': 0.888, 'lg__class_weight': 'balanced', 'lg__solver': 'newton-cg'}                                            \n",
      "[0.50097847 0.50073493 0.51228978]                                                                                     \n",
      "[0.47440945 0.4990099  0.49353234]                                                                                     \n",
      "0.4627545486292278                                                                                                     \n",
      "{'lg__C': 0.595, 'lg__class_weight': 'balanced', 'lg__solver': 'liblinear'}                                            \n",
      "[0.50048876 0.50048972 0.51228978]                                                                                     \n",
      "[0.47440945 0.50049456 0.4940239 ]                                                                                     \n",
      "0.46377184072227795                                                                                                    \n",
      "{'lg__C': 0.585, 'lg__class_weight': 'balanced', 'lg__solver': 'liblinear'}                                            \n",
      "[0.50195313 0.50171485 0.50998068]                                                                                     \n",
      "[0.47311828 0.50540806 0.49209486]                                                                                     \n",
      "0.4626149221243292                                                                                                     \n",
      "{'lg__C': 0.81, 'lg__class_weight': 'balanced', 'lg__solver': 'liblinear'}                                             \n",
      "[0.50195313 0.50024474 0.51180848]                                                                                     \n",
      "[0.47487685 0.50049456 0.4940239 ]                                                                                     \n",
      "0.46405127734877427                                                                                                    \n",
      "{'lg__C': 0.5690000000000001, 'lg__class_weight': 'balanced', 'lg__solver': 'liblinear'}                               \n",
      "[0.50390625 0.5        0.51165803]                                                                                     \n",
      "[0.47637795 0.5        0.4940239 ]                                                                                     \n",
      "0.4650515485367467                                                                                                     \n",
      "{'lg__C': 0.546, 'lg__class_weight': 'balanced', 'lg__solver': 'liblinear'}                                            \n",
      "[0.50244379 0.50171485 0.5098292 ]                                                                                     \n",
      "[0.4745098  0.50540806 0.49108911]                                                                                     \n",
      "0.46338329778249965                                                                                                    \n",
      "{'lg__C': 0.785, 'lg__class_weight': 'balanced', 'lg__solver': 'liblinear'}                                            \n",
      "[0.50096712 0.49585163 0.51072125]                                                                                     \n",
      "[0.47821878 0.49901768 0.4876115 ]                                                                                     \n",
      "0.4655476041314758                                                                                                     \n",
      "{'lg__C': 0.402, 'lg__class_weight': 'balanced', 'lg__solver': 'liblinear'}                                            \n",
      "[0.49951597 0.49585163 0.51040312]                                                                                     \n",
      "[0.48015489 0.49656526 0.48707753]                                                                                     \n",
      "0.46721481459963                                                                                                       \n",
      "{'lg__C': 0.38, 'lg__class_weight': 'balanced', 'lg__solver': 'liblinear'}                                             \n",
      "[0.50048497 0.49707031 0.51137102]                                                                                     \n",
      "[0.48062016 0.49950836 0.48809524]                                                                                     \n",
      "0.46807366022898955                                                                                                    \n",
      "{'lg__C': 0.419, 'lg__class_weight': 'balanced', 'lg__solver': 'liblinear'}                                            \n",
      "[0.5        0.49926435 0.51503268]                                                                                     \n",
      "[0.46918489 0.5        0.49196787]                                                                                     \n",
      "0.4562843454894968                                                                                                     \n",
      "{'lg__C': 0.37, 'lg__class_weight': 'balanced', 'lg__solver': 'lbfgs'}                                                 \n",
      "[0.49856734 0.4953225  0.504044  ]                                                                                     \n",
      "[0.47358491 0.49458128 0.49301397]                                                                                     \n",
      "0.4652589997840001                                                                                                     \n",
      "{'lg__C': 0.133, 'lg__class_weight': 'balanced', 'lg__solver': 'liblinear'}                                            \n",
      "[0.49957228 0.4890447  0.4989605 ]                                                                                     \n",
      "[0.49177632 0.4765279  0.47755835]                                                                                     \n",
      "0.4610911947862932                                                                                                     \n",
      "{'lg__C': 0.008, 'lg__class_weight': 'balanced', 'lg__solver': 'liblinear'}                                            \n",
      "[0.50344149 0.50197239 0.51497396]                                                                                     \n",
      "[0.46930693 0.50547264 0.49246231]                                                                                     \n",
      "0.4564083363500311                                                                                                     \n",
      "{'lg__C': 0.525, 'lg__class_weight': 'balanced', 'lg__solver': 'lbfgs'}                                                \n",
      "[0.49951597 0.49560117 0.51040312]                                                                                     \n",
      "[0.47969052 0.49803922 0.48406375]                                                                                     \n",
      "0.4648636314315259                                                                                                     \n",
      "{'lg__C': 0.371, 'lg__class_weight': 'balanced', 'lg__solver': 'liblinear'}                                            \n",
      "[0.50146915 0.50269476 0.51308562]                                                                                     \n",
      "[0.4729064  0.5        0.49353234]                                                                                     \n",
      "0.4603226179397723                                                                                                     \n",
      "{'lg__C': 0.631, 'lg__class_weight': 'balanced', 'lg__solver': 'liblinear'}                                            \n",
      "[0.49852797 0.4972973  0.51062439]                                                                                     \n",
      "[0.46942801 0.4940239  0.49196787]                                                                                     \n",
      "0.45698830375129423                                                                                                    \n",
      "{'lg__C': 0.291, 'lg__class_weight': 'balanced', 'lg__solver': 'saga'}                                                 \n",
      "[0.50393701 0.50147493 0.5151614 ]                                                                                     \n",
      "[0.46580773 0.50348259 0.49345418]                                                                                     \n",
      "0.45237380606573646                                                                                                    \n",
      "{'lg__C': 0.47700000000000004, 'lg__class_weight': 'balanced', 'lg__solver': 'newton-cg'}                              \n",
      "[0.49904398 0.49509804 0.50503737]                                                                                     \n",
      "[0.47582938 0.4970297  0.49      ]                                                                                     \n",
      "0.4666957941298761                                                                                                     \n",
      "{'lg__C': 0.16, 'lg__class_weight': 'balanced', 'lg__solver': 'liblinear'}                                             \n",
      "[0.49950836 0.4980315  0.51437908]                                                                                     \n",
      "[0.47117296 0.49652433 0.49196787]                                                                                     \n",
      "0.4581024294991158                                                                                                     \n",
      "{'lg__C': 0.34900000000000003, 'lg__class_weight': 'balanced', 'lg__solver': 'sag'}                                    \n",
      "[0.49659202 0.49827331 0.50622135]                                                                                     \n",
      "[0.46511628 0.49350649 0.48995984]                                                                                     \n",
      "0.4527289294518738                                                                                                     \n",
      "{'lg__C': 0.101, 'lg__class_weight': 'balanced', 'lg__solver': 'saga'}                                                 \n",
      "[0.5019685  0.5036964  0.51250406]                                                                                     \n",
      "[0.46580773 0.50398406 0.492     ]                                                                                     \n",
      "0.4525303809803275                                                                                                     \n",
      "{'lg__C': 0.641, 'lg__class_weight': 'balanced', 'lg__solver': 'lbfgs'}                                                \n",
      "[0.31809145 0.32       0.3251493 ]                                                                                     \n",
      "[0.32865731 0.33001988 0.30674847]                                                                                     \n",
      "0.3118732475224545                                                                                                     \n",
      "{'lg__C': 0.507, 'lg__class_weight': None, 'lg__solver': 'liblinear'}                                                  \n",
      "[0.5        0.4972973  0.51013734]                                                                                     \n",
      "[0.46791708 0.49552239 0.49147442]                                                                                     \n",
      "0.4552925184441502                                                                                                     \n",
      "{'lg__C': 0.28700000000000003, 'lg__class_weight': 'balanced', 'lg__solver': 'newton-cg'}                              \n",
      "[0.51332675 0.5061546  0.51179321]                                                                                     \n",
      "[0.46534653 0.50980392 0.49060336]                                                                                     \n",
      "0.44853865448677244                                                                                                    \n",
      "{'lg__C': 0.979, 'lg__class_weight': 'balanced', 'lg__solver': 'saga'}                                                 \n",
      "[0.31474104 0.32032032 0.32446809]                                                                                     \n",
      "[0.32258065 0.33001988 0.30041152]                                                                                     \n",
      "0.30292193098203535                                                                                                    \n",
      "{'lg__C': 0.423, 'lg__class_weight': None, 'lg__solver': 'liblinear'}                                                  \n",
      "[0.50197628 0.50715343 0.510859  ]                                                                                     \n",
      "[0.46534653 0.5059761  0.49049049]                                                                                     \n",
      "0.45113673759296635                                                                                                    \n",
      "{'lg__C': 0.72, 'lg__class_weight': 'balanced', 'lg__solver': 'sag'}                                                   \n",
      "[0.31809145 0.32       0.32536521]                                                                                     \n",
      "[0.32865731 0.33001988 0.30674847]                                                                                     \n",
      "0.31180127999185436                                                                                                    \n",
      "{'lg__C': 0.329, 'lg__class_weight': None, 'lg__solver': 'lbfgs'}                                                      \n",
      "[0.50291262 0.49853372 0.51167315]                                                                                     \n",
      "[0.47906524 0.50049261 0.49007937]                                                                                     \n",
      "0.4666361426224801                                                                                                     \n",
      "{'lg__C': 0.461, 'lg__class_weight': 'balanced', 'lg__solver': 'liblinear'}                                            \n",
      "[0.31474104 0.31863727 0.32356858]                                                                                     \n",
      "[0.32595573 0.33001988 0.30041152]                                                                                     \n",
      "0.30550408890633257                                                                                                    \n",
      "{'lg__C': 0.197, 'lg__class_weight': None, 'lg__solver': 'newton-cg'}                                                  \n",
      "100%|██████████████████████████████████████████████| 50/50 [00:20<00:00,  2.49trial/s, best loss: -0.46807366022898955]\n"
     ]
    }
   ],
   "source": [
    "space_hyp = {\n",
    "             'lg__C': hp.quniform('lg__C', 0.001, 1.0, 0.001),\n",
    "             'lg__solver':  hp.choice('lg__solver', ['newton-cg', 'lbfgs', 'liblinear', 'sag', 'saga']),\n",
    "             'lg__class_weight':  hp.choice('lg__class_weight', ['balanced', None]),\n",
    "                } \n",
    "best = hp_tuning (COM_pipe,\n",
    "                  X_train[al_pipe_feats], y_train, \n",
    "                  space_hyp, tscv, 'f1')"
   ]
  },
  {
   "cell_type": "code",
   "execution_count": 33,
   "id": "8ece5eb0",
   "metadata": {},
   "outputs": [
    {
     "name": "stdout",
     "output_type": "stream",
     "text": [
      "Selected params  -  {'lg__C': 0.419, 'lg__class_weight': 'balanced', 'lg__solver': 'liblinear'}\n"
     ]
    }
   ],
   "source": [
    "print (f'Selected params  - ', space_eval(space_hyp, best))"
   ]
  },
  {
   "cell_type": "code",
   "execution_count": 34,
   "id": "af2529fa",
   "metadata": {},
   "outputs": [
    {
     "data": {
      "text/plain": [
       "127"
      ]
     },
     "execution_count": 34,
     "metadata": {},
     "output_type": "execute_result"
    }
   ],
   "source": [
    "gc.collect()"
   ]
  },
  {
   "cell_type": "code",
   "execution_count": 35,
   "id": "d42c3626",
   "metadata": {},
   "outputs": [
    {
     "name": "stdout",
     "output_type": "stream",
     "text": [
      "17 17\n"
     ]
    }
   ],
   "source": [
    "obj_lg_pipe_woe = Pipeline([('woe', ce.WOEEncoder(handle_unknown='value'))])\n",
    "tr_standart_zero=Pipeline([('imp', SimpleImputer(fill_value=0, strategy='constant'))])\n",
    "tr_passthrough= Pipeline([('transf',PassthroughTransformer())])  \n",
    "    \n",
    "transformers_f = [('obj_lg_pipe_woe',         obj_lg_pipe_woe,           obj_pred),  \n",
    "                  ('tr_standart_zero',        tr_standart_zero,          num_pred), \n",
    "                  ('tr_passthrough',          tr_passthrough,            bin_pred)\n",
    "                 ] \n",
    "\n",
    "al_pipe_feats = obj_pred+num_pred+bin_pred\n",
    "                \n",
    "print (len(al_pipe_feats), len(set(al_pipe_feats)))\n",
    "transformer_com = ColumnTransformer (transformers=transformers_f)\n",
    "COM_pipe = Pipeline([('transf', transformer_com),\n",
    "                     ('scaler',MinMaxScaler()),\n",
    "                     ('lg', LogisticRegression(C = 0.419, class_weight = 'balanced', solver= 'liblinear'))])"
   ]
  },
  {
   "cell_type": "code",
   "execution_count": 36,
   "id": "301aca08",
   "metadata": {},
   "outputs": [
    {
     "name": "stderr",
     "output_type": "stream",
     "text": [
      "[Parallel(n_jobs=3)]: Using backend LokyBackend with 3 concurrent workers.\n"
     ]
    },
    {
     "name": "stdout",
     "output_type": "stream",
     "text": [
      "[0.50048497 0.49707031 0.51137102]\n",
      "[0.48062016 0.49950836 0.48809524]\n",
      "Train 0.5044031311154598\n",
      "Test 0.4911955514365153\n"
     ]
    },
    {
     "name": "stderr",
     "output_type": "stream",
     "text": [
      "[Parallel(n_jobs=3)]: Done   3 out of   3 | elapsed:    0.2s finished\n"
     ]
    }
   ],
   "source": [
    "cv_scres = cross_validate(COM_pipe,\n",
    "                          X_train[al_pipe_feats].reset_index(drop=True),\n",
    "                          y_train.reset_index(drop=True),\n",
    "                          return_train_score=True,\n",
    "                          verbose=3,\n",
    "                          cv=tscv,\n",
    "                          n_jobs=3,\n",
    "                          scoring = 'f1')\n",
    "print (cv_scres['train_score'])\n",
    "print (cv_scres['test_score'])\n",
    "COM_pipe.fit(X_train[al_pipe_feats].reset_index(drop=True),y_train.reset_index(drop=True))\n",
    "print ('Train', f1_score(y_train,COM_pipe.predict(X_train[al_pipe_feats])))\n",
    "print ('Test', f1_score(y_test,COM_pipe.predict(X_test[al_pipe_feats])))"
   ]
  },
  {
   "cell_type": "code",
   "execution_count": 37,
   "id": "e65c7078",
   "metadata": {},
   "outputs": [
    {
     "name": "stdout",
     "output_type": "stream",
     "text": [
      "Train 0.5040924410207029\n",
      "Test 0.4917127071823204\n",
      "All 0.5015267175572519\n"
     ]
    }
   ],
   "source": [
    "COM_pipe.fit(train_df[al_pipe_feats].reset_index(drop=True),train_df[target].reset_index(drop=True))\n",
    "print ('Train', f1_score(y_train,COM_pipe.predict(X_train[al_pipe_feats])))\n",
    "print ('Test', f1_score(y_test,COM_pipe.predict(X_test[al_pipe_feats])))\n",
    "print ('All', f1_score(train_df[target],COM_pipe.predict(train_df[al_pipe_feats])))"
   ]
  },
  {
   "cell_type": "markdown",
   "id": "8956bf24",
   "metadata": {},
   "source": [
    "# RandomForestClassifier"
   ]
  },
  {
   "cell_type": "code",
   "execution_count": 38,
   "id": "187bdad6",
   "metadata": {},
   "outputs": [],
   "source": [
    "from sklearn.ensemble import RandomForestClassifier"
   ]
  },
  {
   "cell_type": "code",
   "execution_count": 39,
   "id": "c7af35ce",
   "metadata": {},
   "outputs": [],
   "source": [
    "COM_pipe_RFC = Pipeline([('transf', transformer_com),\n",
    "                     ('scaler',MinMaxScaler()),\n",
    "                     ('RFC', RandomForestClassifier())])"
   ]
  },
  {
   "cell_type": "code",
   "execution_count": 40,
   "id": "04505af8",
   "metadata": {},
   "outputs": [
    {
     "name": "stderr",
     "output_type": "stream",
     "text": [
      "[Parallel(n_jobs=3)]: Using backend LokyBackend with 3 concurrent workers.\n",
      "[Parallel(n_jobs=3)]: Done   3 out of   3 | elapsed:    1.0s finished\n"
     ]
    },
    {
     "name": "stdout",
     "output_type": "stream",
     "text": [
      "[1. 1. 1.]\n",
      "[0.40282686 0.40143369 0.38198198]\n",
      "Train 1.0\n",
      "Test 0.4087837837837837\n"
     ]
    }
   ],
   "source": [
    "cv_scres = cross_validate(COM_pipe_RFC,\n",
    "                          X_train[al_pipe_feats].reset_index(drop=True),\n",
    "                          y_train.reset_index(drop=True),\n",
    "                          return_train_score=True,\n",
    "                          verbose=3,\n",
    "                          cv=tscv,\n",
    "                          n_jobs=3,\n",
    "                          scoring = 'f1')\n",
    "print (cv_scres['train_score'])\n",
    "print (cv_scres['test_score'])\n",
    "COM_pipe_RFC.fit(X_train[al_pipe_feats].reset_index(drop=True),y_train.reset_index(drop=True))\n",
    "print ('Train', f1_score(y_train,COM_pipe_RFC.predict(X_train[al_pipe_feats])))\n",
    "print ('Test', f1_score(y_test,COM_pipe_RFC.predict(X_test[al_pipe_feats])))"
   ]
  },
  {
   "cell_type": "code",
   "execution_count": 41,
   "id": "5a3587ce",
   "metadata": {},
   "outputs": [
    {
     "data": {
      "text/plain": [
       "266"
      ]
     },
     "execution_count": 41,
     "metadata": {},
     "output_type": "execute_result"
    }
   ],
   "source": [
    "gc.collect()"
   ]
  },
  {
   "cell_type": "markdown",
   "id": "2d8cb49b",
   "metadata": {},
   "source": [
    "# DecisionTreeClassifier"
   ]
  },
  {
   "cell_type": "code",
   "execution_count": 42,
   "id": "b7485aa0",
   "metadata": {},
   "outputs": [],
   "source": [
    "from sklearn.tree import DecisionTreeClassifier"
   ]
  },
  {
   "cell_type": "code",
   "execution_count": 43,
   "id": "b6aecc3c",
   "metadata": {},
   "outputs": [],
   "source": [
    "COM_pipe_DTC = Pipeline([('transf', transformer_com),\n",
    "                     ('scaler',MinMaxScaler()),\n",
    "                     ('DTC', DecisionTreeClassifier())])"
   ]
  },
  {
   "cell_type": "code",
   "execution_count": 44,
   "id": "369d0987",
   "metadata": {},
   "outputs": [
    {
     "name": "stderr",
     "output_type": "stream",
     "text": [
      "[Parallel(n_jobs=3)]: Using backend LokyBackend with 3 concurrent workers.\n",
      "[Parallel(n_jobs=3)]: Done   3 out of   3 | elapsed:    0.1s finished\n"
     ]
    },
    {
     "name": "stdout",
     "output_type": "stream",
     "text": [
      "[1. 1. 1.]\n",
      "[0.45211581 0.46046512 0.46916566]\n",
      "Train 1.0\n",
      "Test 0.4543429844097996\n"
     ]
    }
   ],
   "source": [
    "cv_scres = cross_validate(COM_pipe_DTC,\n",
    "                          X_train[al_pipe_feats].reset_index(drop=True),\n",
    "                          y_train.reset_index(drop=True),\n",
    "                          return_train_score=True,\n",
    "                          verbose=3,\n",
    "                          cv=tscv,\n",
    "                          n_jobs=3,\n",
    "                          scoring = 'f1')\n",
    "print (cv_scres['train_score'])\n",
    "print (cv_scres['test_score'])\n",
    "COM_pipe_DTC.fit(X_train[al_pipe_feats].reset_index(drop=True),y_train.reset_index(drop=True))\n",
    "print ('Train', f1_score(y_train,COM_pipe_DTC.predict(X_train[al_pipe_feats])))\n",
    "print ('Test', f1_score(y_test,COM_pipe_DTC.predict(X_test[al_pipe_feats])))"
   ]
  },
  {
   "cell_type": "code",
   "execution_count": 45,
   "id": "81f1e830",
   "metadata": {},
   "outputs": [
    {
     "name": "stdout",
     "output_type": "stream",
     "text": [
      "Train 1.0\n",
      "Test 1.0\n",
      "All 1.0\n"
     ]
    }
   ],
   "source": [
    "COM_pipe_DTC.fit(train_df[al_pipe_feats].reset_index(drop=True),train_df[target].reset_index(drop=True))\n",
    "print ('Train', f1_score(y_train,COM_pipe_DTC.predict(X_train[al_pipe_feats])))\n",
    "print ('Test', f1_score(y_test,COM_pipe_DTC.predict(X_test[al_pipe_feats])))\n",
    "print ('All', f1_score(train_df[target],COM_pipe_DTC.predict(train_df[al_pipe_feats])))"
   ]
  },
  {
   "cell_type": "code",
   "execution_count": 46,
   "id": "0ce90b6e",
   "metadata": {},
   "outputs": [
    {
     "data": {
      "text/plain": [
       "194"
      ]
     },
     "execution_count": 46,
     "metadata": {},
     "output_type": "execute_result"
    }
   ],
   "source": [
    "gc.collect()"
   ]
  },
  {
   "cell_type": "markdown",
   "id": "2abf34c2",
   "metadata": {},
   "source": [
    "# C-Support Vector Classification"
   ]
  },
  {
   "cell_type": "code",
   "execution_count": 47,
   "id": "c2a01cf8",
   "metadata": {},
   "outputs": [],
   "source": [
    "from sklearn.svm import SVC"
   ]
  },
  {
   "cell_type": "code",
   "execution_count": 48,
   "id": "cd273f6e",
   "metadata": {},
   "outputs": [],
   "source": [
    "COM_pipe_SVC = Pipeline([('transf', transformer_com),\n",
    "                     ('scaler',MinMaxScaler()),\n",
    "                     ('SVC', SVC(gamma='scale'))])"
   ]
  },
  {
   "cell_type": "code",
   "execution_count": 49,
   "id": "ea1d31d8",
   "metadata": {},
   "outputs": [
    {
     "name": "stderr",
     "output_type": "stream",
     "text": [
      "[Parallel(n_jobs=3)]: Using backend LokyBackend with 3 concurrent workers.\n",
      "[Parallel(n_jobs=3)]: Done   3 out of   3 | elapsed:    2.6s finished\n"
     ]
    },
    {
     "name": "stdout",
     "output_type": "stream",
     "text": [
      "[0.31474104 0.31863727 0.32356858]\n",
      "[0.32258065 0.32669323 0.30041152]\n",
      "Train 0.32264529058116237\n",
      "Test 0.32892249527410206\n"
     ]
    }
   ],
   "source": [
    "cv_scres = cross_validate(COM_pipe_SVC,\n",
    "                          X_train[al_pipe_feats].reset_index(drop=True),\n",
    "                          y_train.reset_index(drop=True),\n",
    "                          return_train_score=True,\n",
    "                          verbose=3,\n",
    "                          cv=tscv,\n",
    "                          n_jobs=3,\n",
    "                          scoring = 'f1')\n",
    "print (cv_scres['train_score'])\n",
    "print (cv_scres['test_score'])\n",
    "COM_pipe_SVC.fit(X_train[al_pipe_feats].reset_index(drop=True),y_train.reset_index(drop=True))\n",
    "print ('Train', f1_score(y_train,COM_pipe_SVC.predict(X_train[al_pipe_feats])))\n",
    "print ('Test', f1_score(y_test,COM_pipe_SVC.predict(X_test[al_pipe_feats])))"
   ]
  },
  {
   "cell_type": "code",
   "execution_count": 50,
   "id": "1e683cba",
   "metadata": {
    "scrolled": true
   },
   "outputs": [
    {
     "name": "stdout",
     "output_type": "stream",
     "text": [
      "[0.31474104 0.31863727 0.32133333]                                                                                     \n",
      "[0.32258065 0.32669323 0.30041152]                                                                                     \n",
      "0.30334365311694617                                                                                                    \n",
      "{'SVC__C': 0.626, 'SVC__gamma': 'scale', 'SVC__kernel': 'rbf'}                                                         \n",
      "[0.32475248 0.32367632 0.32536521]                                                                                     \n",
      "[0.3253012  0.33267327 0.30327869]                                                                                     \n",
      "0.303750201851473                                                                                                      \n",
      "{'SVC__C': 0.666, 'SVC__gamma': 'scale', 'SVC__kernel': 'poly'}                                                        \n",
      "[nan nan nan]                                                                                                          \n",
      "[nan nan nan]                                                                                                          \n",
      "nan                                                                                                                    \n",
      "{'SVC__C': 0.459, 'SVC__gamma': 'float', 'SVC__kernel': 'precomputed'}                                                 \n",
      "[nan nan nan]                                                                                                          \n",
      "[nan nan nan]                                                                                                          \n",
      "nan                                                                                                                    \n",
      "{'SVC__C': 0.17200000000000001, 'SVC__gamma': 'float', 'SVC__kernel': 'precomputed'}                                   \n",
      "[0.31474104 0.31863727 0.32133333]                                                                                     \n",
      "[0.32258065 0.32669323 0.30041152]                                                                                     \n",
      "0.30334365311694617                                                                                                    \n",
      "{'SVC__C': 0.329, 'SVC__gamma': 'scale', 'SVC__kernel': 'linear'}                                                      \n",
      "[nan nan nan]                                                                                                          \n",
      "[nan nan nan]                                                                                                          \n",
      "nan                                                                                                                    \n",
      "{'SVC__C': 0.489, 'SVC__gamma': 'float', 'SVC__kernel': 'linear'}                                                      \n",
      "[nan nan nan]                                                                                                          \n",
      "[nan nan nan]                                                                                                          \n",
      "nan                                                                                                                    \n",
      "{'SVC__C': 0.28500000000000003, 'SVC__gamma': 'float', 'SVC__kernel': 'linear'}                                        \n",
      "[nan nan nan]                                                                                                          \n",
      "[nan nan nan]                                                                                                          \n",
      "nan                                                                                                                    \n",
      "{'SVC__C': 0.32, 'SVC__gamma': 'float', 'SVC__kernel': 'rbf'}                                                          \n",
      "[nan nan nan]                                                                                                          \n",
      "[nan nan nan]                                                                                                          \n",
      "nan                                                                                                                    \n",
      "{'SVC__C': 0.706, 'SVC__gamma': 'scale', 'SVC__kernel': 'precomputed'}                                                 \n",
      "[nan nan nan]                                                                                                          \n",
      "[nan nan nan]                                                                                                          \n",
      "nan                                                                                                                    \n",
      "{'SVC__C': 0.22, 'SVC__gamma': 'scale', 'SVC__kernel': 'precomputed'}                                                  \n",
      "[0.37209302 0.37135279 0.37390213]                                                                                     \n",
      "[0.35794743 0.33972603 0.32862644]                                                                                     \n",
      "0.2996632522465328                                                                                                     \n",
      "{'SVC__C': 0.72, 'SVC__gamma': 'scale', 'SVC__kernel': 'sigmoid'}                                                      \n",
      "[nan nan nan]                                                                                                          \n",
      "[nan nan nan]                                                                                                          \n",
      "nan                                                                                                                    \n",
      "{'SVC__C': 0.045, 'SVC__gamma': 'float', 'SVC__kernel': 'rbf'}                                                         \n",
      "[nan nan nan]                                                                                                          \n",
      "[nan nan nan]                                                                                                          \n",
      "nan                                                                                                                    \n",
      "{'SVC__C': 0.682, 'SVC__gamma': 'scale', 'SVC__kernel': 'precomputed'}                                                 \n",
      "[nan nan nan]                                                                                                          \n",
      "[nan nan nan]                                                                                                          \n",
      "nan                                                                                                                    \n",
      "{'SVC__C': 0.428, 'SVC__gamma': 'float', 'SVC__kernel': 'poly'}                                                        \n",
      "[0.32142857 0.322      0.3255814 ]                                                                                     \n",
      "[0.32258065 0.33267327 0.29979466]                                                                                     \n",
      "0.29994369739743065                                                                                                    \n",
      "{'SVC__C': 0.453, 'SVC__gamma': 'scale', 'SVC__kernel': 'poly'}                                                        \n",
      "[nan nan nan]                                                                                                          \n",
      "[nan nan nan]                                                                                                          \n",
      "nan                                                                                                                    \n",
      "{'SVC__C': 0.918, 'SVC__gamma': 'float', 'SVC__kernel': 'sigmoid'}                                                     \n",
      "[nan nan nan]                                                                                                          \n",
      "[nan nan nan]                                                                                                          \n",
      "nan                                                                                                                    \n",
      "{'SVC__C': 0.254, 'SVC__gamma': 'float', 'SVC__kernel': 'rbf'}                                                         \n",
      "[nan nan nan]                                                                                                          \n",
      "[nan nan nan]                                                                                                          \n",
      "nan                                                                                                                    \n",
      "{'SVC__C': 0.231, 'SVC__gamma': 'float', 'SVC__kernel': 'sigmoid'}                                                     \n",
      "[nan nan nan]                                                                                                          \n",
      "[nan nan nan]                                                                                                          \n",
      "nan                                                                                                                    \n",
      "{'SVC__C': 0.20400000000000001, 'SVC__gamma': 'float', 'SVC__kernel': 'sigmoid'}                                       \n",
      "[0.31474104 0.31863727 0.32133333]                                                                                     \n",
      "[0.32258065 0.32669323 0.30041152]                                                                                     \n",
      "0.30334365311694617                                                                                                    \n",
      "{'SVC__C': 0.096, 'SVC__gamma': 'scale', 'SVC__kernel': 'linear'}                                                      \n",
      "[nan nan nan]                                                                                                          \n",
      "[nan nan nan]                                                                                                          \n",
      "nan                                                                                                                    \n",
      "{'SVC__C': 0.17500000000000002, 'SVC__gamma': 'float', 'SVC__kernel': 'precomputed'}                                   \n",
      "[nan nan nan]                                                                                                          \n",
      "[nan nan nan]                                                                                                          \n",
      "nan                                                                                                                    \n",
      "{'SVC__C': 0.482, 'SVC__gamma': 'float', 'SVC__kernel': 'linear'}                                                      \n",
      "[nan nan nan]                                                                                                          \n",
      "[nan nan nan]                                                                                                          \n",
      "nan                                                                                                                    \n",
      "{'SVC__C': 0.022, 'SVC__gamma': 'float', 'SVC__kernel': 'sigmoid'}                                                     \n",
      "[nan nan nan]                                                                                                          \n",
      "[nan nan nan]                                                                                                          \n",
      "nan                                                                                                                    \n",
      "{'SVC__C': 0.858, 'SVC__gamma': 'float', 'SVC__kernel': 'rbf'}                                                         \n",
      "[nan nan nan]                                                                                                          \n",
      "[nan nan nan]                                                                                                          \n",
      "nan                                                                                                                    \n",
      "{'SVC__C': 0.859, 'SVC__gamma': 'float', 'SVC__kernel': 'linear'}                                                      \n",
      "[0.37073171 0.37090433 0.37127257]                                                                                     \n",
      "[0.35955056 0.34557823 0.32647815]                                                                                     \n",
      "0.3032126823087494                                                                                                     \n",
      "{'SVC__C': 0.805, 'SVC__gamma': 'scale', 'SVC__kernel': 'sigmoid'}                                                     \n",
      "[0.31474104 0.31863727 0.32133333]                                                                                     \n",
      "[0.32258065 0.32669323 0.30041152]                                                                                     \n",
      "0.30334365311694617                                                                                                    \n",
      "{'SVC__C': 0.912, 'SVC__gamma': 'scale', 'SVC__kernel': 'linear'}                                                      \n",
      "[nan nan nan]                                                                                                          \n",
      "[nan nan nan]                                                                                                          \n",
      "nan                                                                                                                    \n",
      "{'SVC__C': 0.8220000000000001, 'SVC__gamma': 'float', 'SVC__kernel': 'poly'}                                           \n",
      "[nan nan nan]                                                                                                          \n",
      "[nan nan nan]                                                                                                          \n",
      "nan                                                                                                                    \n",
      "{'SVC__C': 0.873, 'SVC__gamma': 'float', 'SVC__kernel': 'sigmoid'}                                                     \n",
      "[nan nan nan]                                                                                                          \n",
      "[nan nan nan]                                                                                                          \n",
      "nan                                                                                                                    \n",
      "{'SVC__C': 0.303, 'SVC__gamma': 'float', 'SVC__kernel': 'rbf'}                                                         \n",
      "[0.32475248 0.322      0.32536521]                                                                                     \n",
      "[0.3253012  0.33267327 0.29979466]                                                                                     \n",
      "0.30038675847402874                                                                                                    \n",
      "{'SVC__C': 0.557, 'SVC__gamma': 'scale', 'SVC__kernel': 'poly'}                                                        \n",
      "[0.33791749 0.32669323 0.32647644]                                                                                     \n",
      "[0.32       0.33596838 0.30327869]                                                                                     \n",
      "0.2957889697465409                                                                                                     \n",
      "{'SVC__C': 0.986, 'SVC__gamma': 'scale', 'SVC__kernel': 'poly'}                                                        \n",
      "[nan nan nan]                                                                                                          \n",
      "[nan nan nan]                                                                                                          \n",
      "nan                                                                                                                    \n",
      "{'SVC__C': 0.368, 'SVC__gamma': 'scale', 'SVC__kernel': 'precomputed'}                                                 \n",
      "[nan nan nan]                                                                                                          \n",
      "[nan nan nan]                                                                                                          \n",
      "nan                                                                                                                    \n",
      "{'SVC__C': 0.862, 'SVC__gamma': 'float', 'SVC__kernel': 'poly'}                                                        \n",
      "[nan nan nan]                                                                                                          \n",
      "[nan nan nan]                                                                                                          \n",
      "nan                                                                                                                    \n",
      "{'SVC__C': 0.973, 'SVC__gamma': 'float', 'SVC__kernel': 'rbf'}                                                         \n",
      "[0.31474104 0.31863727 0.3224517 ]                                                                                     \n",
      "[0.32258065 0.32669323 0.30041152]                                                                                     \n",
      "0.3029708646055833                                                                                                     \n",
      "{'SVC__C': 0.863, 'SVC__gamma': 'scale', 'SVC__kernel': 'rbf'}                                                         \n",
      "[nan nan nan]                                                                                                          \n",
      "[nan nan nan]                                                                                                          \n",
      "nan                                                                                                                    \n",
      "{'SVC__C': 0.769, 'SVC__gamma': 'scale', 'SVC__kernel': 'precomputed'}                                                 \n",
      "[nan nan nan]                                                                                                          \n",
      "[nan nan nan]                                                                                                          \n",
      "nan                                                                                                                    \n",
      "{'SVC__C': 0.5690000000000001, 'SVC__gamma': 'float', 'SVC__kernel': 'rbf'}                                            \n",
      "[0.33464567 0.32502493 0.32536521]                                                                                     \n",
      "[0.3246493  0.33596838 0.30327869]                                                                                     \n",
      "0.30069813789602046                                                                                                    \n",
      "{'SVC__C': 0.837, 'SVC__gamma': 'scale', 'SVC__kernel': 'poly'}                                                        \n",
      "[nan nan nan]                                                                                                          \n",
      "[nan nan nan]                                                                                                          \n",
      "nan                                                                                                                    \n",
      "{'SVC__C': 0.40900000000000003, 'SVC__gamma': 'float', 'SVC__kernel': 'linear'}                                        \n",
      "[0.37163814 0.37135279 0.37207358]                                                                                     \n",
      "[0.35794743 0.34246575 0.32989691]                                                                                     \n",
      "0.3037130859694859                                                                                                     \n",
      "{'SVC__C': 0.713, 'SVC__gamma': 'scale', 'SVC__kernel': 'sigmoid'}                                                     \n",
      "[0.37209302 0.3709571  0.37300922]                                                                                     \n",
      "[0.35588972 0.34153005 0.33074935]                                                                                     \n",
      "0.3031281869005337                                                                                                     \n",
      "{'SVC__C': 0.736, 'SVC__gamma': 'scale', 'SVC__kernel': 'sigmoid'}                                                     \n",
      "[nan nan nan]                                                                                                          \n",
      "[nan nan nan]                                                                                                          \n",
      "nan                                                                                                                    \n",
      "{'SVC__C': 0.056, 'SVC__gamma': 'float', 'SVC__kernel': 'sigmoid'}                                                     \n",
      "[0.31474104 0.31863727 0.32133333]                                                                                     \n",
      "[0.31919192 0.32669323 0.30041152]                                                                                     \n",
      "0.30157331851197083                                                                                                    \n",
      "{'SVC__C': 0.124, 'SVC__gamma': 'scale', 'SVC__kernel': 'rbf'}                                                         \n",
      "[0.32806324 0.32502493 0.32536521]                                                                                     \n",
      "[0.3253012  0.33267327 0.30327869]                                                                                     \n",
      "0.30219707938240703                                                                                                    \n",
      "{'SVC__C': 0.775, 'SVC__gamma': 'scale', 'SVC__kernel': 'poly'}                                                        \n",
      "[nan nan nan]                                                                                                          \n",
      "[nan nan nan]                                                                                                          \n",
      "nan                                                                                                                    \n",
      "{'SVC__C': 0.151, 'SVC__gamma': 'float', 'SVC__kernel': 'precomputed'}                                                 \n",
      "[0.31474104 0.31863727 0.32133333]                                                                                     \n",
      "[0.32258065 0.32669323 0.30041152]                                                                                     \n",
      "0.30334365311694617                                                                                                    \n",
      "{'SVC__C': 0.274, 'SVC__gamma': 'scale', 'SVC__kernel': 'linear'}                                                      \n",
      "[nan nan nan]                                                                                                          \n",
      "[nan nan nan]                                                                                                          \n",
      "nan                                                                                                                    \n",
      "{'SVC__C': 0.684, 'SVC__gamma': 'scale', 'SVC__kernel': 'precomputed'}                                                 \n",
      "[0.31474104 0.31863727 0.32133333]                                                                                     \n",
      "[0.32258065 0.32669323 0.30041152]                                                                                     \n",
      "0.30334365311694617                                                                                                    \n",
      "{'SVC__C': 0.977, 'SVC__gamma': 'scale', 'SVC__kernel': 'linear'}                                                      \n",
      "[nan nan nan]                                                                                                          \n",
      "[nan nan nan]                                                                                                          \n",
      "nan                                                                                                                    \n",
      "{'SVC__C': 0.456, 'SVC__gamma': 'scale', 'SVC__kernel': 'precomputed'}                                                 \n",
      "100%|████████████████████████████████████████████████| 50/50 [00:41<00:00,  1.20trial/s, best loss: -0.303750201851473]\n"
     ]
    }
   ],
   "source": [
    "space_hyp = {\n",
    "             'SVC__C': hp.quniform('SVC__C', 0.001, 1.0, 0.001),\n",
    "             'SVC__kernel':  hp.choice('SVC__kernel', ['linear', 'poly', 'rbf', 'sigmoid', 'precomputed']),\n",
    "             'SVC__gamma':  hp.choice('SVC__gamma', ['scale', 'float']),\n",
    "                } \n",
    "best = hp_tuning (COM_pipe_SVC,\n",
    "                  X_train[al_pipe_feats], y_train, \n",
    "                  space_hyp, tscv, 'f1')"
   ]
  },
  {
   "cell_type": "code",
   "execution_count": 51,
   "id": "7a359389",
   "metadata": {
    "scrolled": true
   },
   "outputs": [
    {
     "name": "stdout",
     "output_type": "stream",
     "text": [
      "Selected params  -  {'SVC__C': 0.666, 'SVC__gamma': 'scale', 'SVC__kernel': 'poly'}\n"
     ]
    }
   ],
   "source": [
    "print (f'Selected params  - ', space_eval(space_hyp, best))"
   ]
  },
  {
   "cell_type": "code",
   "execution_count": 52,
   "id": "764f72bb",
   "metadata": {},
   "outputs": [],
   "source": [
    "COM_pipe_SVC = Pipeline([('transf', transformer_com),\n",
    "                     ('scaler',MinMaxScaler()),\n",
    "                     ('SVC', SVC(C = 0.666, gamma='scale', kernel = 'poly'))])"
   ]
  },
  {
   "cell_type": "code",
   "execution_count": 53,
   "id": "0139ac23",
   "metadata": {},
   "outputs": [
    {
     "name": "stderr",
     "output_type": "stream",
     "text": [
      "[Parallel(n_jobs=3)]: Using backend LokyBackend with 3 concurrent workers.\n",
      "[Parallel(n_jobs=3)]: Done   3 out of   3 | elapsed:    1.7s finished\n"
     ]
    },
    {
     "name": "stdout",
     "output_type": "stream",
     "text": [
      "[0.32475248 0.32367632 0.32536521]\n",
      "[0.3253012  0.33267327 0.30327869]\n",
      "Train 0.32248372558838256\n",
      "Test 0.32892249527410206\n"
     ]
    }
   ],
   "source": [
    "cv_scres = cross_validate(COM_pipe_SVC,\n",
    "                          X_train[al_pipe_feats].reset_index(drop=True),\n",
    "                          y_train.reset_index(drop=True),\n",
    "                          return_train_score=True,\n",
    "                          verbose=3,\n",
    "                          cv=tscv,\n",
    "                          n_jobs=3,\n",
    "                          scoring = 'f1')\n",
    "print (cv_scres['train_score'])\n",
    "print (cv_scres['test_score'])\n",
    "COM_pipe_SVC.fit(X_train[al_pipe_feats].reset_index(drop=True),y_train.reset_index(drop=True))\n",
    "print ('Train', f1_score(y_train,COM_pipe_SVC.predict(X_train[al_pipe_feats])))\n",
    "print ('Test', f1_score(y_test,COM_pipe_SVC.predict(X_test[al_pipe_feats])))"
   ]
  },
  {
   "cell_type": "code",
   "execution_count": 54,
   "id": "6ebc5b3a",
   "metadata": {},
   "outputs": [
    {
     "name": "stdout",
     "output_type": "stream",
     "text": [
      "Train 0.3218045112781954\n",
      "Test 0.33207547169811324\n",
      "All 0.32396039603960397\n"
     ]
    }
   ],
   "source": [
    "COM_pipe_SVC.fit(train_df[al_pipe_feats].reset_index(drop=True),train_df[target].reset_index(drop=True))\n",
    "print ('Train', f1_score(y_train,COM_pipe_SVC.predict(X_train[al_pipe_feats])))\n",
    "print ('Test', f1_score(y_test,COM_pipe_SVC.predict(X_test[al_pipe_feats])))\n",
    "print ('All', f1_score(train_df[target],COM_pipe_SVC.predict(train_df[al_pipe_feats])))"
   ]
  }
 ],
 "metadata": {
  "kernelspec": {
   "display_name": "Python 3",
   "language": "python",
   "name": "python3"
  },
  "language_info": {
   "codemirror_mode": {
    "name": "ipython",
    "version": 3
   },
   "file_extension": ".py",
   "mimetype": "text/x-python",
   "name": "python",
   "nbconvert_exporter": "python",
   "pygments_lexer": "ipython3",
   "version": "3.7.13"
  },
  "toc": {
   "base_numbering": 1,
   "nav_menu": {
    "height": "88px",
    "width": "160px"
   },
   "number_sections": true,
   "sideBar": true,
   "skip_h1_title": false,
   "title_cell": "Table of Contents",
   "title_sidebar": "Contents",
   "toc_cell": false,
   "toc_position": {
    "height": "calc(100% - 180px)",
    "left": "10px",
    "top": "150px",
    "width": "165px"
   },
   "toc_section_display": true,
   "toc_window_display": true
  }
 },
 "nbformat": 4,
 "nbformat_minor": 5
}
