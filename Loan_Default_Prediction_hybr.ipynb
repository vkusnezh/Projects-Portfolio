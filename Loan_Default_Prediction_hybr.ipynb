{
 "cells": [
  {
   "cell_type": "code",
   "execution_count": 1,
   "id": "a9084ba9",
   "metadata": {},
   "outputs": [],
   "source": [
    "import pandas as pd\n",
    "import numpy as np\n",
    "import seaborn as sns\n",
    "import matplotlib\n",
    "import matplotlib.pyplot as plt\n",
    "from matplotlib.pylab import rcParams\n",
    "rcParams['figure.figsize'] = 12, 7\n",
    "%matplotlib inline\n",
    "import gc\n",
    "\n",
    "from sklearn.model_selection import TimeSeriesSplit\n",
    "from sklearn.metrics import accuracy_score\n",
    "from sklearn.model_selection import train_test_split\n",
    "from sklearn.metrics import roc_auc_score\n",
    "from sklearn.metrics import f1_score\n",
    "\n",
    "import warnings\n",
    "warnings.filterwarnings(\"ignore\")\n",
    "from operator import itemgetter"
   ]
  },
  {
   "cell_type": "markdown",
   "id": "16883d31",
   "metadata": {},
   "source": [
    "# Load bases"
   ]
  },
  {
   "cell_type": "code",
   "execution_count": 2,
   "id": "c0c22f76",
   "metadata": {},
   "outputs": [
    {
     "name": "stdout",
     "output_type": "stream",
     "text": [
      "(7500, 18)\n",
      "(2500, 17)\n"
     ]
    },
    {
     "data": {
      "text/plain": [
       "[None, None]"
      ]
     },
     "execution_count": 2,
     "metadata": {},
     "output_type": "execute_result"
    }
   ],
   "source": [
    "train_df = pd.read_csv('C:/Users/38063/Desktop/Loan_prediction/train.csv')\n",
    "test_df = pd.read_csv('C:/Users/38063/Desktop/Loan_prediction/test.csv')\n",
    "[print(df.shape) for df in [train_df,test_df]]"
   ]
  },
  {
   "cell_type": "code",
   "execution_count": 3,
   "id": "3b7a8e51",
   "metadata": {},
   "outputs": [
    {
     "data": {
      "text/html": [
       "<div>\n",
       "<style scoped>\n",
       "    .dataframe tbody tr th:only-of-type {\n",
       "        vertical-align: middle;\n",
       "    }\n",
       "\n",
       "    .dataframe tbody tr th {\n",
       "        vertical-align: top;\n",
       "    }\n",
       "\n",
       "    .dataframe thead th {\n",
       "        text-align: right;\n",
       "    }\n",
       "</style>\n",
       "<table border=\"1\" class=\"dataframe\">\n",
       "  <thead>\n",
       "    <tr style=\"text-align: right;\">\n",
       "      <th></th>\n",
       "      <th>Id</th>\n",
       "      <th>Home Ownership</th>\n",
       "      <th>Annual Income</th>\n",
       "      <th>Years in current job</th>\n",
       "      <th>Tax Liens</th>\n",
       "      <th>Number of Open Accounts</th>\n",
       "      <th>Years of Credit History</th>\n",
       "      <th>Maximum Open Credit</th>\n",
       "      <th>Number of Credit Problems</th>\n",
       "      <th>Months since last delinquent</th>\n",
       "      <th>Bankruptcies</th>\n",
       "      <th>Purpose</th>\n",
       "      <th>Term</th>\n",
       "      <th>Current Loan Amount</th>\n",
       "      <th>Current Credit Balance</th>\n",
       "      <th>Monthly Debt</th>\n",
       "      <th>Credit Score</th>\n",
       "      <th>Credit Default</th>\n",
       "    </tr>\n",
       "  </thead>\n",
       "  <tbody>\n",
       "    <tr>\n",
       "      <th>0</th>\n",
       "      <td>0</td>\n",
       "      <td>Own Home</td>\n",
       "      <td>482087.0</td>\n",
       "      <td>NaN</td>\n",
       "      <td>0.0</td>\n",
       "      <td>11.0</td>\n",
       "      <td>26.3</td>\n",
       "      <td>685960.0</td>\n",
       "      <td>1.0</td>\n",
       "      <td>NaN</td>\n",
       "      <td>1.0</td>\n",
       "      <td>debt consolidation</td>\n",
       "      <td>Short Term</td>\n",
       "      <td>99999999.0</td>\n",
       "      <td>47386.0</td>\n",
       "      <td>7914.0</td>\n",
       "      <td>749.0</td>\n",
       "      <td>0</td>\n",
       "    </tr>\n",
       "    <tr>\n",
       "      <th>1</th>\n",
       "      <td>1</td>\n",
       "      <td>Own Home</td>\n",
       "      <td>1025487.0</td>\n",
       "      <td>10+ years</td>\n",
       "      <td>0.0</td>\n",
       "      <td>15.0</td>\n",
       "      <td>15.3</td>\n",
       "      <td>1181730.0</td>\n",
       "      <td>0.0</td>\n",
       "      <td>NaN</td>\n",
       "      <td>0.0</td>\n",
       "      <td>debt consolidation</td>\n",
       "      <td>Long Term</td>\n",
       "      <td>264968.0</td>\n",
       "      <td>394972.0</td>\n",
       "      <td>18373.0</td>\n",
       "      <td>737.0</td>\n",
       "      <td>1</td>\n",
       "    </tr>\n",
       "    <tr>\n",
       "      <th>2</th>\n",
       "      <td>2</td>\n",
       "      <td>Home Mortgage</td>\n",
       "      <td>751412.0</td>\n",
       "      <td>8 years</td>\n",
       "      <td>0.0</td>\n",
       "      <td>11.0</td>\n",
       "      <td>35.0</td>\n",
       "      <td>1182434.0</td>\n",
       "      <td>0.0</td>\n",
       "      <td>NaN</td>\n",
       "      <td>0.0</td>\n",
       "      <td>debt consolidation</td>\n",
       "      <td>Short Term</td>\n",
       "      <td>99999999.0</td>\n",
       "      <td>308389.0</td>\n",
       "      <td>13651.0</td>\n",
       "      <td>742.0</td>\n",
       "      <td>0</td>\n",
       "    </tr>\n",
       "    <tr>\n",
       "      <th>3</th>\n",
       "      <td>3</td>\n",
       "      <td>Own Home</td>\n",
       "      <td>805068.0</td>\n",
       "      <td>6 years</td>\n",
       "      <td>0.0</td>\n",
       "      <td>8.0</td>\n",
       "      <td>22.5</td>\n",
       "      <td>147400.0</td>\n",
       "      <td>1.0</td>\n",
       "      <td>NaN</td>\n",
       "      <td>1.0</td>\n",
       "      <td>debt consolidation</td>\n",
       "      <td>Short Term</td>\n",
       "      <td>121396.0</td>\n",
       "      <td>95855.0</td>\n",
       "      <td>11338.0</td>\n",
       "      <td>694.0</td>\n",
       "      <td>0</td>\n",
       "    </tr>\n",
       "    <tr>\n",
       "      <th>4</th>\n",
       "      <td>4</td>\n",
       "      <td>Rent</td>\n",
       "      <td>776264.0</td>\n",
       "      <td>8 years</td>\n",
       "      <td>0.0</td>\n",
       "      <td>13.0</td>\n",
       "      <td>13.6</td>\n",
       "      <td>385836.0</td>\n",
       "      <td>1.0</td>\n",
       "      <td>NaN</td>\n",
       "      <td>0.0</td>\n",
       "      <td>debt consolidation</td>\n",
       "      <td>Short Term</td>\n",
       "      <td>125840.0</td>\n",
       "      <td>93309.0</td>\n",
       "      <td>7180.0</td>\n",
       "      <td>719.0</td>\n",
       "      <td>0</td>\n",
       "    </tr>\n",
       "  </tbody>\n",
       "</table>\n",
       "</div>"
      ],
      "text/plain": [
       "   Id Home Ownership  Annual Income Years in current job  Tax Liens  \\\n",
       "0   0       Own Home       482087.0                  NaN        0.0   \n",
       "1   1       Own Home      1025487.0            10+ years        0.0   \n",
       "2   2  Home Mortgage       751412.0              8 years        0.0   \n",
       "3   3       Own Home       805068.0              6 years        0.0   \n",
       "4   4           Rent       776264.0              8 years        0.0   \n",
       "\n",
       "   Number of Open Accounts  Years of Credit History  Maximum Open Credit  \\\n",
       "0                     11.0                     26.3             685960.0   \n",
       "1                     15.0                     15.3            1181730.0   \n",
       "2                     11.0                     35.0            1182434.0   \n",
       "3                      8.0                     22.5             147400.0   \n",
       "4                     13.0                     13.6             385836.0   \n",
       "\n",
       "   Number of Credit Problems  Months since last delinquent  Bankruptcies  \\\n",
       "0                        1.0                           NaN           1.0   \n",
       "1                        0.0                           NaN           0.0   \n",
       "2                        0.0                           NaN           0.0   \n",
       "3                        1.0                           NaN           1.0   \n",
       "4                        1.0                           NaN           0.0   \n",
       "\n",
       "              Purpose        Term  Current Loan Amount  \\\n",
       "0  debt consolidation  Short Term           99999999.0   \n",
       "1  debt consolidation   Long Term             264968.0   \n",
       "2  debt consolidation  Short Term           99999999.0   \n",
       "3  debt consolidation  Short Term             121396.0   \n",
       "4  debt consolidation  Short Term             125840.0   \n",
       "\n",
       "   Current Credit Balance  Monthly Debt  Credit Score  Credit Default  \n",
       "0                 47386.0        7914.0         749.0               0  \n",
       "1                394972.0       18373.0         737.0               1  \n",
       "2                308389.0       13651.0         742.0               0  \n",
       "3                 95855.0       11338.0         694.0               0  \n",
       "4                 93309.0        7180.0         719.0               0  "
      ]
     },
     "execution_count": 3,
     "metadata": {},
     "output_type": "execute_result"
    }
   ],
   "source": [
    "train_df.head()"
   ]
  },
  {
   "cell_type": "code",
   "execution_count": 4,
   "id": "198f479d",
   "metadata": {},
   "outputs": [
    {
     "data": {
      "text/html": [
       "<div>\n",
       "<style scoped>\n",
       "    .dataframe tbody tr th:only-of-type {\n",
       "        vertical-align: middle;\n",
       "    }\n",
       "\n",
       "    .dataframe tbody tr th {\n",
       "        vertical-align: top;\n",
       "    }\n",
       "\n",
       "    .dataframe thead th {\n",
       "        text-align: right;\n",
       "    }\n",
       "</style>\n",
       "<table border=\"1\" class=\"dataframe\">\n",
       "  <thead>\n",
       "    <tr style=\"text-align: right;\">\n",
       "      <th></th>\n",
       "      <th>Id</th>\n",
       "      <th>Home Ownership</th>\n",
       "      <th>Annual Income</th>\n",
       "      <th>Years in current job</th>\n",
       "      <th>Tax Liens</th>\n",
       "      <th>Number of Open Accounts</th>\n",
       "      <th>Years of Credit History</th>\n",
       "      <th>Maximum Open Credit</th>\n",
       "      <th>Number of Credit Problems</th>\n",
       "      <th>Months since last delinquent</th>\n",
       "      <th>Bankruptcies</th>\n",
       "      <th>Purpose</th>\n",
       "      <th>Term</th>\n",
       "      <th>Current Loan Amount</th>\n",
       "      <th>Current Credit Balance</th>\n",
       "      <th>Monthly Debt</th>\n",
       "      <th>Credit Score</th>\n",
       "    </tr>\n",
       "  </thead>\n",
       "  <tbody>\n",
       "    <tr>\n",
       "      <th>0</th>\n",
       "      <td>7500</td>\n",
       "      <td>Rent</td>\n",
       "      <td>NaN</td>\n",
       "      <td>4 years</td>\n",
       "      <td>0.0</td>\n",
       "      <td>9.0</td>\n",
       "      <td>12.5</td>\n",
       "      <td>220968.0</td>\n",
       "      <td>0.0</td>\n",
       "      <td>70.0</td>\n",
       "      <td>0.0</td>\n",
       "      <td>debt consolidation</td>\n",
       "      <td>Short Term</td>\n",
       "      <td>162470.0</td>\n",
       "      <td>105906.0</td>\n",
       "      <td>6813.0</td>\n",
       "      <td>NaN</td>\n",
       "    </tr>\n",
       "    <tr>\n",
       "      <th>1</th>\n",
       "      <td>7501</td>\n",
       "      <td>Rent</td>\n",
       "      <td>231838.0</td>\n",
       "      <td>1 year</td>\n",
       "      <td>0.0</td>\n",
       "      <td>6.0</td>\n",
       "      <td>32.7</td>\n",
       "      <td>55946.0</td>\n",
       "      <td>0.0</td>\n",
       "      <td>8.0</td>\n",
       "      <td>0.0</td>\n",
       "      <td>educational expenses</td>\n",
       "      <td>Short Term</td>\n",
       "      <td>78298.0</td>\n",
       "      <td>46037.0</td>\n",
       "      <td>2318.0</td>\n",
       "      <td>699.0</td>\n",
       "    </tr>\n",
       "    <tr>\n",
       "      <th>2</th>\n",
       "      <td>7502</td>\n",
       "      <td>Home Mortgage</td>\n",
       "      <td>1152540.0</td>\n",
       "      <td>3 years</td>\n",
       "      <td>0.0</td>\n",
       "      <td>10.0</td>\n",
       "      <td>13.7</td>\n",
       "      <td>204600.0</td>\n",
       "      <td>0.0</td>\n",
       "      <td>NaN</td>\n",
       "      <td>0.0</td>\n",
       "      <td>debt consolidation</td>\n",
       "      <td>Short Term</td>\n",
       "      <td>200178.0</td>\n",
       "      <td>146490.0</td>\n",
       "      <td>18729.0</td>\n",
       "      <td>7260.0</td>\n",
       "    </tr>\n",
       "    <tr>\n",
       "      <th>3</th>\n",
       "      <td>7503</td>\n",
       "      <td>Home Mortgage</td>\n",
       "      <td>1220313.0</td>\n",
       "      <td>10+ years</td>\n",
       "      <td>0.0</td>\n",
       "      <td>16.0</td>\n",
       "      <td>17.0</td>\n",
       "      <td>456302.0</td>\n",
       "      <td>0.0</td>\n",
       "      <td>70.0</td>\n",
       "      <td>0.0</td>\n",
       "      <td>debt consolidation</td>\n",
       "      <td>Short Term</td>\n",
       "      <td>217382.0</td>\n",
       "      <td>213199.0</td>\n",
       "      <td>27559.0</td>\n",
       "      <td>739.0</td>\n",
       "    </tr>\n",
       "    <tr>\n",
       "      <th>4</th>\n",
       "      <td>7504</td>\n",
       "      <td>Home Mortgage</td>\n",
       "      <td>2340952.0</td>\n",
       "      <td>6 years</td>\n",
       "      <td>0.0</td>\n",
       "      <td>11.0</td>\n",
       "      <td>23.6</td>\n",
       "      <td>1207272.0</td>\n",
       "      <td>0.0</td>\n",
       "      <td>NaN</td>\n",
       "      <td>0.0</td>\n",
       "      <td>debt consolidation</td>\n",
       "      <td>Long Term</td>\n",
       "      <td>777634.0</td>\n",
       "      <td>425391.0</td>\n",
       "      <td>42605.0</td>\n",
       "      <td>706.0</td>\n",
       "    </tr>\n",
       "  </tbody>\n",
       "</table>\n",
       "</div>"
      ],
      "text/plain": [
       "     Id Home Ownership  Annual Income Years in current job  Tax Liens  \\\n",
       "0  7500           Rent            NaN              4 years        0.0   \n",
       "1  7501           Rent       231838.0               1 year        0.0   \n",
       "2  7502  Home Mortgage      1152540.0              3 years        0.0   \n",
       "3  7503  Home Mortgage      1220313.0            10+ years        0.0   \n",
       "4  7504  Home Mortgage      2340952.0              6 years        0.0   \n",
       "\n",
       "   Number of Open Accounts  Years of Credit History  Maximum Open Credit  \\\n",
       "0                      9.0                     12.5             220968.0   \n",
       "1                      6.0                     32.7              55946.0   \n",
       "2                     10.0                     13.7             204600.0   \n",
       "3                     16.0                     17.0             456302.0   \n",
       "4                     11.0                     23.6            1207272.0   \n",
       "\n",
       "   Number of Credit Problems  Months since last delinquent  Bankruptcies  \\\n",
       "0                        0.0                          70.0           0.0   \n",
       "1                        0.0                           8.0           0.0   \n",
       "2                        0.0                           NaN           0.0   \n",
       "3                        0.0                          70.0           0.0   \n",
       "4                        0.0                           NaN           0.0   \n",
       "\n",
       "                Purpose        Term  Current Loan Amount  \\\n",
       "0    debt consolidation  Short Term             162470.0   \n",
       "1  educational expenses  Short Term              78298.0   \n",
       "2    debt consolidation  Short Term             200178.0   \n",
       "3    debt consolidation  Short Term             217382.0   \n",
       "4    debt consolidation   Long Term             777634.0   \n",
       "\n",
       "   Current Credit Balance  Monthly Debt  Credit Score  \n",
       "0                105906.0        6813.0           NaN  \n",
       "1                 46037.0        2318.0         699.0  \n",
       "2                146490.0       18729.0        7260.0  \n",
       "3                213199.0       27559.0         739.0  \n",
       "4                425391.0       42605.0         706.0  "
      ]
     },
     "execution_count": 4,
     "metadata": {},
     "output_type": "execute_result"
    }
   ],
   "source": [
    "test_df.head()"
   ]
  },
  {
   "cell_type": "code",
   "execution_count": 5,
   "id": "289f020f",
   "metadata": {},
   "outputs": [
    {
     "data": {
      "text/plain": [
       "Id                                 0\n",
       "Home Ownership                     0\n",
       "Annual Income                   1557\n",
       "Years in current job             371\n",
       "Tax Liens                          0\n",
       "Number of Open Accounts            0\n",
       "Years of Credit History            0\n",
       "Maximum Open Credit                0\n",
       "Number of Credit Problems          0\n",
       "Months since last delinquent    4081\n",
       "Bankruptcies                      14\n",
       "Purpose                            0\n",
       "Term                               0\n",
       "Current Loan Amount                0\n",
       "Current Credit Balance             0\n",
       "Monthly Debt                       0\n",
       "Credit Score                    1557\n",
       "Credit Default                     0\n",
       "dtype: int64"
      ]
     },
     "execution_count": 5,
     "metadata": {},
     "output_type": "execute_result"
    }
   ],
   "source": [
    "train_df.isnull().sum()"
   ]
  },
  {
   "cell_type": "code",
   "execution_count": 6,
   "id": "2b05135f",
   "metadata": {},
   "outputs": [
    {
     "data": {
      "text/plain": [
       "Id                                 0\n",
       "Home Ownership                     0\n",
       "Annual Income                    513\n",
       "Years in current job              86\n",
       "Tax Liens                          0\n",
       "Number of Open Accounts            0\n",
       "Years of Credit History            0\n",
       "Maximum Open Credit                0\n",
       "Number of Credit Problems          0\n",
       "Months since last delinquent    1358\n",
       "Bankruptcies                       3\n",
       "Purpose                            0\n",
       "Term                               0\n",
       "Current Loan Amount                0\n",
       "Current Credit Balance             0\n",
       "Monthly Debt                       0\n",
       "Credit Score                     513\n",
       "dtype: int64"
      ]
     },
     "execution_count": 6,
     "metadata": {},
     "output_type": "execute_result"
    }
   ],
   "source": [
    "test_df.isnull().sum()"
   ]
  },
  {
   "cell_type": "markdown",
   "id": "4301d920",
   "metadata": {},
   "source": [
    "Home Ownership - Домовладение\\\n",
    "Annual Income - Годовой доход\\\n",
    "Years in current job - Кол-во лет на текущей работе\\\n",
    "Tax Liens - Налоговые обязательства\\\n",
    "Number of Open Accounts - Количество открытых счетов\\\n",
    "Years of Credit History - Кол-во лет кредитная история\\\n",
    "Maximum Open Credit - Макс кол-во открытых кредитов\\\n",
    "Number of Credit Problems - Кол-во проблемных кредитов\\\n",
    "Months since last delinquent - Кол-вомесяцев с момента последнего просроченного платежа\\\n",
    "Bankruptcies - банкротство\\\n",
    "Purpose - Цель?\\\n",
    "Term - Срок\\\n",
    "Current Loan Amount - Текущая сумма кредита\\\n",
    "Current Credit Balance - Текущий кредитовый баланс\\\n",
    "Monthly Debt - Ежемесячный долг\\\n",
    "Credit Score - Кредитный рейтинг\\\n",
    "Credit Default - Кредитный дефолт"
   ]
  },
  {
   "cell_type": "code",
   "execution_count": 7,
   "id": "ebaf5d1d",
   "metadata": {},
   "outputs": [],
   "source": [
    "# 'Annual Income',\n",
    "# 'Credit Score', - первый и второй - по одни и тем же клиентам пустые значения. Возможно первый входит как предиктор во второй"
   ]
  },
  {
   "cell_type": "markdown",
   "id": "31bd7c3e",
   "metadata": {},
   "source": [
    "# Preprocesing"
   ]
  },
  {
   "cell_type": "markdown",
   "id": "a330ca1b",
   "metadata": {},
   "source": [
    "## fill NAN"
   ]
  },
  {
   "cell_type": "code",
   "execution_count": 8,
   "id": "c02cbb9b",
   "metadata": {},
   "outputs": [
    {
     "name": "stdout",
     "output_type": "stream",
     "text": [
      "Annual Income_flNull 0\n",
      "Months since last delinquent_flNull 0\n",
      "Bankruptcies_flNull 0\n",
      "Annual Income_flNull 0\n",
      "Months since last delinquent_flNull 0\n",
      "Bankruptcies_flNull 0\n"
     ]
    }
   ],
   "source": [
    "for df in [train_df, test_df]:\n",
    "    for f in ['Annual Income', \n",
    "              'Months since last delinquent',\n",
    "              'Bankruptcies',\n",
    "              ]:\n",
    "        nf_ = f + '_flNull'\n",
    "        df[nf_] = np.where(df[f].isnull(), 1, 0)\n",
    "        print(nf_, df[nf_].isnull().sum())"
   ]
  },
  {
   "cell_type": "code",
   "execution_count": 9,
   "id": "374f5d8d",
   "metadata": {},
   "outputs": [],
   "source": [
    "# Annual Income\n",
    "for df in [train_df,test_df]:\n",
    "    for f in ['Annual Income']:\n",
    "        median_ = df['Annual Income'].median()\n",
    "        df[f]= df[f].fillna(median_)"
   ]
  },
  {
   "cell_type": "code",
   "execution_count": 10,
   "id": "218a9561",
   "metadata": {},
   "outputs": [],
   "source": [
    "for df in [train_df,test_df]:\n",
    "    for f in ['Years in current job']:\n",
    "        nf_ = f#+'_NAN_0'\n",
    "        df[nf_] = df[f].fillna('0 years')\n",
    "#         print(df[nf_].isnull().sum())\n",
    "\n",
    "for df in [train_df,test_df]:\n",
    "    for f in ['Months since last delinquent']:\n",
    "        nf_ = f#+'_NAN_0'\n",
    "        df[nf_] = df[f].fillna(0.0)\n",
    "#         print(df[nf_].isnull().sum())"
   ]
  },
  {
   "cell_type": "code",
   "execution_count": 11,
   "id": "e9678272",
   "metadata": {},
   "outputs": [],
   "source": [
    "for df in [train_df,test_df]:\n",
    "    for f in ['Bankruptcies']:\n",
    "        nf_ = f#+'_NAN_0'\n",
    "        df[nf_] = df[f].fillna(0.0)\n",
    "#         print(df[nf_].isnull().sum())"
   ]
  },
  {
   "cell_type": "code",
   "execution_count": 12,
   "id": "57ce58d7",
   "metadata": {},
   "outputs": [
    {
     "data": {
      "text/plain": [
       "80"
      ]
     },
     "execution_count": 12,
     "metadata": {},
     "output_type": "execute_result"
    }
   ],
   "source": [
    "gc.collect()"
   ]
  },
  {
   "cell_type": "markdown",
   "id": "cba2ba68",
   "metadata": {},
   "source": [
    "# Feature Engineering"
   ]
  },
  {
   "cell_type": "code",
   "execution_count": 13,
   "id": "651b5e80",
   "metadata": {},
   "outputs": [],
   "source": [
    "for df in [train_df,test_df]:\n",
    "    df['Term'] = np.where(df['Term'] == 'Long Term', 1, 0)\n",
    "    df['b_75 Credit Score'] = np.where(df['Credit Score']>743, 1, 0)\n",
    "    df['b_75 Current Loan Amount'] = np.where(df['Current Loan Amount']>5.198820e+05, 1, 0)"
   ]
  },
  {
   "cell_type": "code",
   "execution_count": 17,
   "id": "b464f137",
   "metadata": {},
   "outputs": [
    {
     "name": "stdout",
     "output_type": "stream",
     "text": [
      "21\n"
     ]
    }
   ],
   "source": [
    "predictors = list(set(train_df.columns.tolist()) - set(['Id','Credit Default']))\n",
    "target = 'Credit Default'\n",
    "print(len(predictors))"
   ]
  },
  {
   "cell_type": "code",
   "execution_count": 18,
   "id": "53b7bd28",
   "metadata": {},
   "outputs": [
    {
     "name": "stdout",
     "output_type": "stream",
     "text": [
      "obj =  3\n",
      "num =  18\n"
     ]
    }
   ],
   "source": [
    "obj = train_df[predictors].select_dtypes(include = 'O').columns.tolist()\n",
    "num = list(set(predictors)-set(obj))\n",
    "print ('obj = ', len(obj))\n",
    "print ('num = ', len(num))"
   ]
  },
  {
   "cell_type": "code",
   "execution_count": 19,
   "id": "ce35c9f1",
   "metadata": {},
   "outputs": [
    {
     "data": {
      "text/plain": [
       "6"
      ]
     },
     "execution_count": 19,
     "metadata": {},
     "output_type": "execute_result"
    }
   ],
   "source": [
    "bin_pred =[f for f in list(set(predictors)) if train_df[f].nunique(dropna=False)<=2]\n",
    "len(bin_pred)"
   ]
  },
  {
   "cell_type": "code",
   "execution_count": 20,
   "id": "743868ec",
   "metadata": {},
   "outputs": [
    {
     "name": "stdout",
     "output_type": "stream",
     "text": [
      "num =  12\n",
      "obj =  3\n"
     ]
    }
   ],
   "source": [
    "num = list(set(num)-set(bin_pred))\n",
    "obj = list(set(obj)-set(bin_pred))\n",
    "print ('num = ', len(num))\n",
    "print ('obj = ', len(obj))"
   ]
  },
  {
   "cell_type": "code",
   "execution_count": 21,
   "id": "abc8f540",
   "metadata": {},
   "outputs": [
    {
     "data": {
      "text/plain": [
       "['Bankruptcies_flNull',\n",
       " 'Term',\n",
       " 'Months since last delinquent_flNull',\n",
       " 'Annual Income_flNull',\n",
       " 'b_75 Credit Score',\n",
       " 'b_75 Current Loan Amount']"
      ]
     },
     "execution_count": 21,
     "metadata": {},
     "output_type": "execute_result"
    }
   ],
   "source": [
    "bin_pred"
   ]
  },
  {
   "cell_type": "code",
   "execution_count": 22,
   "id": "bd47c88d",
   "metadata": {},
   "outputs": [
    {
     "data": {
      "text/plain": [
       "['Years in current job', 'Purpose', 'Home Ownership']"
      ]
     },
     "execution_count": 22,
     "metadata": {},
     "output_type": "execute_result"
    }
   ],
   "source": [
    "obj"
   ]
  },
  {
   "cell_type": "code",
   "execution_count": 23,
   "id": "1057d31c",
   "metadata": {},
   "outputs": [
    {
     "data": {
      "text/plain": [
       "['Months since last delinquent',\n",
       " 'Years of Credit History',\n",
       " 'Credit Score',\n",
       " 'Tax Liens',\n",
       " 'Number of Open Accounts',\n",
       " 'Annual Income',\n",
       " 'Maximum Open Credit',\n",
       " 'Monthly Debt',\n",
       " 'Number of Credit Problems',\n",
       " 'Current Loan Amount',\n",
       " 'Bankruptcies',\n",
       " 'Current Credit Balance']"
      ]
     },
     "execution_count": 23,
     "metadata": {},
     "output_type": "execute_result"
    }
   ],
   "source": [
    "num"
   ]
  },
  {
   "cell_type": "code",
   "execution_count": 24,
   "id": "69598438",
   "metadata": {},
   "outputs": [],
   "source": [
    "num_pred = num.copy()\n",
    "obj_pred = obj.copy()"
   ]
  },
  {
   "cell_type": "code",
   "execution_count": 25,
   "id": "bc1897d1",
   "metadata": {},
   "outputs": [],
   "source": [
    "for i in predictors:\n",
    "    if i not in bin_pred+num_pred+obj_pred:\n",
    "        print (i)"
   ]
  },
  {
   "cell_type": "markdown",
   "id": "741617ec",
   "metadata": {},
   "source": [
    "# LogisticRegression"
   ]
  },
  {
   "cell_type": "code",
   "execution_count": 26,
   "id": "4cd874f7",
   "metadata": {},
   "outputs": [],
   "source": [
    "X_train, X_test, y_train, y_test = train_test_split(train_df, train_df[target], test_size=0.2, random_state=42)"
   ]
  },
  {
   "cell_type": "code",
   "execution_count": 27,
   "id": "b8a6bb8e",
   "metadata": {},
   "outputs": [],
   "source": [
    "from sklearn.linear_model import LogisticRegression\n",
    "from sklearn.impute import SimpleImputer\n",
    "from sklearn.preprocessing import MinMaxScaler\n",
    "import category_encoders as ce\n",
    "from sklearn.compose import ColumnTransformer\n",
    "from sklearn.pipeline import  Pipeline\n",
    "from sklearn.model_selection import cross_validate\n",
    "\n",
    "class PassthroughTransformer:\n",
    "    def __init__(self):\n",
    "        pass\n",
    "    def fit(self,X,y=None):\n",
    "        if isinstance(X,pd.DataFrame):\n",
    "            self.colnames = X.columns.tolist()\n",
    "        else:\n",
    "            self.colnames = [str(col) for col in np.arange(0,X.shape[0])]\n",
    "        return self\n",
    "    def transform(self,X):\n",
    "        return X\n",
    "    def get_feature_names(self):\n",
    "        return self.colnames"
   ]
  },
  {
   "cell_type": "code",
   "execution_count": 28,
   "id": "f28b0348",
   "metadata": {},
   "outputs": [
    {
     "name": "stdout",
     "output_type": "stream",
     "text": [
      "21 21\n"
     ]
    }
   ],
   "source": [
    "obj_lg_pipe_woe = Pipeline([('woe', ce.WOEEncoder(handle_unknown='value'))])\n",
    "tr_standart_zero=Pipeline([('imp', SimpleImputer(fill_value=0, strategy='constant'))])\n",
    "tr_passthrough= Pipeline([('transf',PassthroughTransformer())])  \n",
    "    \n",
    "#все в 1 трансформе\n",
    "transformers_f = [('obj_lg_pipe_woe',         obj_lg_pipe_woe,           obj_pred),  \n",
    "                  ('tr_standart_zero',        tr_standart_zero,          num_pred), \n",
    "                  ('tr_passthrough',          tr_passthrough,            bin_pred)\n",
    "                 ] \n",
    "\n",
    "al_pipe_feats = obj_pred+num_pred+bin_pred\n",
    "                \n",
    "print (len(al_pipe_feats), len(set(al_pipe_feats)))\n",
    "transformer_com = ColumnTransformer (transformers=transformers_f)\n",
    "COM_pipe = Pipeline([('transf', transformer_com),\n",
    "                     ('scaler',MinMaxScaler()),\n",
    "                     ('lg', LogisticRegression(n_jobs=-1))])"
   ]
  },
  {
   "cell_type": "code",
   "execution_count": 29,
   "id": "817742aa",
   "metadata": {},
   "outputs": [],
   "source": [
    "tscv = TimeSeriesSplit(n_splits=3) "
   ]
  },
  {
   "cell_type": "code",
   "execution_count": 30,
   "id": "37575f78",
   "metadata": {
    "scrolled": true
   },
   "outputs": [
    {
     "name": "stderr",
     "output_type": "stream",
     "text": [
      "[Parallel(n_jobs=3)]: Using backend LokyBackend with 3 concurrent workers.\n"
     ]
    },
    {
     "name": "stdout",
     "output_type": "stream",
     "text": [
      "[0.4171123  0.38432836 0.38428484]\n",
      "[0.36363636 0.37546468 0.38345865]\n",
      "Train 0.39282428702851885\n",
      "Test 0.3767605633802817\n"
     ]
    },
    {
     "name": "stderr",
     "output_type": "stream",
     "text": [
      "[Parallel(n_jobs=3)]: Done   3 out of   3 | elapsed:    3.4s finished\n"
     ]
    }
   ],
   "source": [
    "cv_scres = cross_validate(COM_pipe,\n",
    "                          X_train[al_pipe_feats].reset_index(drop=True),\n",
    "                          y_train.reset_index(drop=True),\n",
    "                          return_train_score=True,\n",
    "                          verbose=3,\n",
    "                          cv=tscv,\n",
    "                          n_jobs=3,\n",
    "                          scoring = 'f1')\n",
    "print (cv_scres['train_score'])\n",
    "print (cv_scres['test_score'])\n",
    "COM_pipe.fit(X_train[al_pipe_feats].reset_index(drop=True),y_train.reset_index(drop=True))\n",
    "print ('Train', f1_score(y_train,COM_pipe.predict(X_train[al_pipe_feats])))\n",
    "print ('Test', f1_score(y_test,COM_pipe.predict(X_test[al_pipe_feats])))"
   ]
  },
  {
   "cell_type": "code",
   "execution_count": 34,
   "id": "d42c3626",
   "metadata": {},
   "outputs": [
    {
     "name": "stdout",
     "output_type": "stream",
     "text": [
      "21 21\n"
     ]
    }
   ],
   "source": [
    "obj_lg_pipe_woe = Pipeline([('woe', ce.WOEEncoder(handle_unknown='value'))])\n",
    "tr_standart_zero=Pipeline([('imp', SimpleImputer(fill_value=0, strategy='constant'))])\n",
    "tr_passthrough= Pipeline([('transf',PassthroughTransformer())])  \n",
    "    \n",
    "#все в 1 трансформе\n",
    "transformers_f = [('obj_lg_pipe_woe',         obj_lg_pipe_woe,           obj_pred),  \n",
    "                  ('tr_standart_zero',        tr_standart_zero,          num_pred), \n",
    "                  ('tr_passthrough',          tr_passthrough,            bin_pred)\n",
    "                 ] \n",
    "\n",
    "al_pipe_feats = obj_pred+num_pred+bin_pred\n",
    "                \n",
    "print (len(al_pipe_feats), len(set(al_pipe_feats)))\n",
    "transformer_com = ColumnTransformer (transformers=transformers_f)\n",
    "COM_pipe = Pipeline([('transf', transformer_com),\n",
    "                     ('scaler',MinMaxScaler()),\n",
    "                     ('lg', LogisticRegression(C = 0.03, class_weight = 'balanced', solver= 'lbfgs'))])"
   ]
  },
  {
   "cell_type": "code",
   "execution_count": 35,
   "id": "301aca08",
   "metadata": {},
   "outputs": [
    {
     "name": "stderr",
     "output_type": "stream",
     "text": [
      "[Parallel(n_jobs=3)]: Using backend LokyBackend with 3 concurrent workers.\n"
     ]
    },
    {
     "name": "stdout",
     "output_type": "stream",
     "text": [
      "[0.52497551 0.52315522 0.51890034]\n",
      "[0.50048685 0.52371134 0.54127482]\n",
      "Train 0.5270999229386077\n",
      "Test 0.5617103984450924\n"
     ]
    },
    {
     "name": "stderr",
     "output_type": "stream",
     "text": [
      "[Parallel(n_jobs=3)]: Done   3 out of   3 | elapsed:    0.1s finished\n"
     ]
    }
   ],
   "source": [
    "cv_scres = cross_validate(COM_pipe,\n",
    "                          X_train[al_pipe_feats].reset_index(drop=True),\n",
    "                          y_train.reset_index(drop=True),\n",
    "                          return_train_score=True,\n",
    "                          verbose=3,\n",
    "                          cv=tscv,\n",
    "                          n_jobs=3,\n",
    "                          scoring = 'f1')\n",
    "print (cv_scres['train_score'])\n",
    "print (cv_scres['test_score'])\n",
    "COM_pipe.fit(X_train[al_pipe_feats].reset_index(drop=True),y_train.reset_index(drop=True))\n",
    "print ('Train', f1_score(y_train,COM_pipe.predict(X_train[al_pipe_feats])))\n",
    "print ('Test', f1_score(y_test,COM_pipe.predict(X_test[al_pipe_feats])))\n",
    "# [0.52497551 0.52315522 0.51890034]\n",
    "# [0.50048685 0.52371134 0.54127482]\n",
    "# Train 0.5270999229386077\n",
    "# Test 0.5617103984450924"
   ]
  },
  {
   "cell_type": "code",
   "execution_count": 36,
   "id": "d5384b1a",
   "metadata": {
    "scrolled": true
   },
   "outputs": [
    {
     "name": "stdout",
     "output_type": "stream",
     "text": [
      "(21, 2)\n"
     ]
    },
    {
     "data": {
      "text/html": [
       "<div>\n",
       "<style scoped>\n",
       "    .dataframe tbody tr th:only-of-type {\n",
       "        vertical-align: middle;\n",
       "    }\n",
       "\n",
       "    .dataframe tbody tr th {\n",
       "        vertical-align: top;\n",
       "    }\n",
       "\n",
       "    .dataframe thead th {\n",
       "        text-align: right;\n",
       "    }\n",
       "</style>\n",
       "<table border=\"1\" class=\"dataframe\">\n",
       "  <thead>\n",
       "    <tr style=\"text-align: right;\">\n",
       "      <th></th>\n",
       "      <th>REG_Coeficient</th>\n",
       "      <th>Feature</th>\n",
       "      <th>abs</th>\n",
       "    </tr>\n",
       "  </thead>\n",
       "  <tbody>\n",
       "    <tr>\n",
       "      <th>0</th>\n",
       "      <td>2.110413</td>\n",
       "      <td>Credit Score</td>\n",
       "      <td>2.110413</td>\n",
       "    </tr>\n",
       "    <tr>\n",
       "      <th>20</th>\n",
       "      <td>-1.702819</td>\n",
       "      <td>Current Loan Amount</td>\n",
       "      <td>1.702819</td>\n",
       "    </tr>\n",
       "    <tr>\n",
       "      <th>1</th>\n",
       "      <td>0.810541</td>\n",
       "      <td>Term</td>\n",
       "      <td>0.810541</td>\n",
       "    </tr>\n",
       "    <tr>\n",
       "      <th>2</th>\n",
       "      <td>0.556065</td>\n",
       "      <td>Annual Income_flNull</td>\n",
       "      <td>0.556065</td>\n",
       "    </tr>\n",
       "    <tr>\n",
       "      <th>19</th>\n",
       "      <td>-0.468685</td>\n",
       "      <td>Annual Income</td>\n",
       "      <td>0.468685</td>\n",
       "    </tr>\n",
       "    <tr>\n",
       "      <th>3</th>\n",
       "      <td>0.467363</td>\n",
       "      <td>Years in current job</td>\n",
       "      <td>0.467363</td>\n",
       "    </tr>\n",
       "    <tr>\n",
       "      <th>4</th>\n",
       "      <td>0.304868</td>\n",
       "      <td>Home Ownership</td>\n",
       "      <td>0.304868</td>\n",
       "    </tr>\n",
       "    <tr>\n",
       "      <th>5</th>\n",
       "      <td>0.261555</td>\n",
       "      <td>Purpose</td>\n",
       "      <td>0.261555</td>\n",
       "    </tr>\n",
       "    <tr>\n",
       "      <th>6</th>\n",
       "      <td>0.186265</td>\n",
       "      <td>Number of Open Accounts</td>\n",
       "      <td>0.186265</td>\n",
       "    </tr>\n",
       "    <tr>\n",
       "      <th>7</th>\n",
       "      <td>0.157035</td>\n",
       "      <td>Monthly Debt</td>\n",
       "      <td>0.157035</td>\n",
       "    </tr>\n",
       "    <tr>\n",
       "      <th>18</th>\n",
       "      <td>-0.141244</td>\n",
       "      <td>b_75 Current Loan Amount</td>\n",
       "      <td>0.141244</td>\n",
       "    </tr>\n",
       "    <tr>\n",
       "      <th>8</th>\n",
       "      <td>0.132015</td>\n",
       "      <td>Number of Credit Problems</td>\n",
       "      <td>0.132015</td>\n",
       "    </tr>\n",
       "    <tr>\n",
       "      <th>17</th>\n",
       "      <td>-0.125802</td>\n",
       "      <td>Years of Credit History</td>\n",
       "      <td>0.125802</td>\n",
       "    </tr>\n",
       "    <tr>\n",
       "      <th>9</th>\n",
       "      <td>0.077293</td>\n",
       "      <td>Tax Liens</td>\n",
       "      <td>0.077293</td>\n",
       "    </tr>\n",
       "    <tr>\n",
       "      <th>16</th>\n",
       "      <td>-0.076596</td>\n",
       "      <td>Months since last delinquent_flNull</td>\n",
       "      <td>0.076596</td>\n",
       "    </tr>\n",
       "    <tr>\n",
       "      <th>15</th>\n",
       "      <td>-0.056758</td>\n",
       "      <td>Current Credit Balance</td>\n",
       "      <td>0.056758</td>\n",
       "    </tr>\n",
       "    <tr>\n",
       "      <th>10</th>\n",
       "      <td>0.051533</td>\n",
       "      <td>Bankruptcies</td>\n",
       "      <td>0.051533</td>\n",
       "    </tr>\n",
       "    <tr>\n",
       "      <th>14</th>\n",
       "      <td>-0.035007</td>\n",
       "      <td>Months since last delinquent</td>\n",
       "      <td>0.035007</td>\n",
       "    </tr>\n",
       "    <tr>\n",
       "      <th>13</th>\n",
       "      <td>-0.018247</td>\n",
       "      <td>Bankruptcies_flNull</td>\n",
       "      <td>0.018247</td>\n",
       "    </tr>\n",
       "    <tr>\n",
       "      <th>12</th>\n",
       "      <td>-0.016231</td>\n",
       "      <td>Maximum Open Credit</td>\n",
       "      <td>0.016231</td>\n",
       "    </tr>\n",
       "    <tr>\n",
       "      <th>11</th>\n",
       "      <td>-0.007936</td>\n",
       "      <td>b_75 Credit Score</td>\n",
       "      <td>0.007936</td>\n",
       "    </tr>\n",
       "  </tbody>\n",
       "</table>\n",
       "</div>"
      ],
      "text/plain": [
       "    REG_Coeficient                              Feature       abs\n",
       "0         2.110413                         Credit Score  2.110413\n",
       "20       -1.702819                  Current Loan Amount  1.702819\n",
       "1         0.810541                                 Term  0.810541\n",
       "2         0.556065                 Annual Income_flNull  0.556065\n",
       "19       -0.468685                        Annual Income  0.468685\n",
       "3         0.467363                 Years in current job  0.467363\n",
       "4         0.304868                       Home Ownership  0.304868\n",
       "5         0.261555                              Purpose  0.261555\n",
       "6         0.186265              Number of Open Accounts  0.186265\n",
       "7         0.157035                         Monthly Debt  0.157035\n",
       "18       -0.141244             b_75 Current Loan Amount  0.141244\n",
       "8         0.132015            Number of Credit Problems  0.132015\n",
       "17       -0.125802              Years of Credit History  0.125802\n",
       "9         0.077293                            Tax Liens  0.077293\n",
       "16       -0.076596  Months since last delinquent_flNull  0.076596\n",
       "15       -0.056758               Current Credit Balance  0.056758\n",
       "10        0.051533                         Bankruptcies  0.051533\n",
       "14       -0.035007         Months since last delinquent  0.035007\n",
       "13       -0.018247                  Bankruptcies_flNull  0.018247\n",
       "12       -0.016231                  Maximum Open Credit  0.016231\n",
       "11       -0.007936                    b_75 Credit Score  0.007936"
      ]
     },
     "execution_count": 36,
     "metadata": {},
     "output_type": "execute_result"
    }
   ],
   "source": [
    "coef_l1 = dict(zip(COM_pipe['lg'].coef_[0], al_pipe_feats))\n",
    "coef_l1 = dict(sorted(coef_l1.items(), key=itemgetter(0), reverse=True))\n",
    "\n",
    "d = {'REG_Coeficient': list(coef_l1.keys()), 'Feature': list(coef_l1.values())}\n",
    "coef_df = pd.DataFrame(data=d)\n",
    "print (coef_df.shape)\n",
    "coef_df['abs'] = coef_df.REG_Coeficient.abs()\n",
    "coef_df.sort_values('abs', ascending=False)\n"
   ]
  },
  {
   "cell_type": "code",
   "execution_count": 37,
   "id": "ad2758d0",
   "metadata": {},
   "outputs": [
    {
     "name": "stdout",
     "output_type": "stream",
     "text": [
      "21 21\n"
     ]
    }
   ],
   "source": [
    "f_l1 = coef_df[abs(coef_df['REG_Coeficient']) >= 0.0000]['Feature'].tolist()\n",
    "print(len(al_pipe_feats), len(f_l1))"
   ]
  },
  {
   "cell_type": "code",
   "execution_count": 40,
   "id": "3131d4af",
   "metadata": {},
   "outputs": [],
   "source": [
    "# al_pipe_feats = list(set(al_pipe_feats)&set(f_l1))"
   ]
  },
  {
   "cell_type": "code",
   "execution_count": 38,
   "id": "e65c7078",
   "metadata": {},
   "outputs": [
    {
     "name": "stdout",
     "output_type": "stream",
     "text": [
      "Train 0.5276420673695037\n",
      "Test 0.5596868884540117\n",
      "All 0.5343107310120138\n"
     ]
    }
   ],
   "source": [
    "COM_pipe.fit(train_df[al_pipe_feats].reset_index(drop=True),train_df[target].reset_index(drop=True))\n",
    "print ('Train', f1_score(y_train,COM_pipe.predict(X_train[al_pipe_feats])))\n",
    "print ('Test', f1_score(y_test,COM_pipe.predict(X_test[al_pipe_feats])))\n",
    "print ('All', f1_score(train_df[target],COM_pipe.predict(train_df[al_pipe_feats])))"
   ]
  },
  {
   "cell_type": "code",
   "execution_count": 39,
   "id": "224532a2",
   "metadata": {},
   "outputs": [],
   "source": [
    "test_df[target] = COM_pipe.predict(test_df[al_pipe_feats])\n",
    "test_df[['Id','Credit Default']].to_csv('Submission_15.csv',index=False)"
   ]
  }
 ],
 "metadata": {
  "kernelspec": {
   "display_name": "Python 3",
   "language": "python",
   "name": "python3"
  },
  "language_info": {
   "codemirror_mode": {
    "name": "ipython",
    "version": 3
   },
   "file_extension": ".py",
   "mimetype": "text/x-python",
   "name": "python",
   "nbconvert_exporter": "python",
   "pygments_lexer": "ipython3",
   "version": "3.7.13"
  },
  "toc": {
   "base_numbering": 1,
   "nav_menu": {
    "height": "88px",
    "width": "160px"
   },
   "number_sections": true,
   "sideBar": true,
   "skip_h1_title": false,
   "title_cell": "Table of Contents",
   "title_sidebar": "Contents",
   "toc_cell": false,
   "toc_position": {
    "height": "calc(100% - 180px)",
    "left": "10px",
    "top": "150px",
    "width": "165px"
   },
   "toc_section_display": true,
   "toc_window_display": true
  }
 },
 "nbformat": 4,
 "nbformat_minor": 5
}
